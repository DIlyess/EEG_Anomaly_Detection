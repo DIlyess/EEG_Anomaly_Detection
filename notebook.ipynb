{
 "cells": [
  {
   "cell_type": "markdown",
   "id": "718c9c9a",
   "metadata": {
    "papermill": {
     "duration": 0.011345,
     "end_time": "2024-10-14T15:24:40.215181",
     "exception": false,
     "start_time": "2024-10-14T15:24:40.203836",
     "status": "completed"
    },
    "tags": []
   },
   "source": [
    "## Introduction to the automated analysis of EEG quality\n"
   ]
  },
  {
   "cell_type": "markdown",
   "id": "3b6d9535",
   "metadata": {
    "papermill": {
     "duration": 0.00897,
     "end_time": "2024-10-14T15:24:40.234437",
     "exception": false,
     "start_time": "2024-10-14T15:24:40.225467",
     "status": "completed"
    },
    "tags": []
   },
   "source": [
    "This notebook will introduce you to the challenge by going through the data and working towards a first very simple model.\n"
   ]
  },
  {
   "cell_type": "markdown",
   "id": "edf53ec0",
   "metadata": {
    "papermill": {
     "duration": 0.009737,
     "end_time": "2024-10-14T15:24:40.254705",
     "exception": false,
     "start_time": "2024-10-14T15:24:40.244968",
     "status": "completed"
    },
    "tags": []
   },
   "source": [
    "## Loading the data\n"
   ]
  },
  {
   "cell_type": "code",
   "execution_count": 1,
   "id": "c062abf0",
   "metadata": {
    "execution": {
     "iopub.execute_input": "2024-10-14T15:24:40.277188Z",
     "iopub.status.busy": "2024-10-14T15:24:40.276621Z",
     "iopub.status.idle": "2024-10-14T15:24:47.669258Z",
     "shell.execute_reply": "2024-10-14T15:24:47.667949Z"
    },
    "papermill": {
     "duration": 7.406933,
     "end_time": "2024-10-14T15:24:47.672079",
     "exception": false,
     "start_time": "2024-10-14T15:24:40.265146",
     "status": "completed"
    },
    "tags": []
   },
   "outputs": [],
   "source": [
    "## First let's load the training data\n",
    "from pathlib import Path\n",
    "import numpy as np\n",
    "import seaborn as sns\n",
    "import matplotlib.pyplot as plt\n",
    "from scipy.signal import butter, lfilter\n",
    "import pandas as pd\n",
    "\n",
    "ROOT_PATH = Path(\n",
    "    \"/kaggle/input/eeg-signal-quality-analysis-by-beacon-biosignals/train/\"\n",
    ")\n",
    "ROOT_PATH = \"./train/\"\n",
    "training_data = [\n",
    "    (np.load(ROOT_PATH + f\"data_{i}.npy\"), np.load(ROOT_PATH + f\"target_{i}.npy\"))\n",
    "    for i in range(4)\n",
    "]"
   ]
  },
  {
   "cell_type": "markdown",
   "id": "2cf04118",
   "metadata": {
    "papermill": {
     "duration": 0.009103,
     "end_time": "2024-10-14T15:24:47.691699",
     "exception": false,
     "start_time": "2024-10-14T15:24:47.682596",
     "status": "completed"
    },
    "tags": []
   },
   "source": [
    "We expect to have five channels and one label per channel for each two seconds of data.\n",
    "Let's have a look at the data duration and shape\n"
   ]
  },
  {
   "cell_type": "code",
   "execution_count": 2,
   "id": "4e186f8a",
   "metadata": {
    "execution": {
     "iopub.execute_input": "2024-10-14T15:24:47.712878Z",
     "iopub.status.busy": "2024-10-14T15:24:47.712282Z",
     "iopub.status.idle": "2024-10-14T15:24:47.720238Z",
     "shell.execute_reply": "2024-10-14T15:24:47.719128Z"
    },
    "papermill": {
     "duration": 0.022432,
     "end_time": "2024-10-14T15:24:47.723512",
     "exception": false,
     "start_time": "2024-10-14T15:24:47.701080",
     "status": "completed"
    },
    "tags": []
   },
   "outputs": [
    {
     "name": "stdout",
     "output_type": "stream",
     "text": [
      "\n",
      "Recording 0\n",
      "Data shape (5, 7712740) (5, 15425)\n",
      "Data duration: 30850.96\n",
      "Labels duration 30850\n",
      "\n",
      "Recording 1\n",
      "Data shape (5, 5232364) (5, 10464)\n",
      "Data duration: 20929.456\n",
      "Labels duration 20928\n",
      "\n",
      "Recording 2\n",
      "Data shape (5, 6421756) (5, 12843)\n",
      "Data duration: 25687.024\n",
      "Labels duration 25686\n",
      "\n",
      "Recording 3\n",
      "Data shape (5, 6809761) (5, 13619)\n",
      "Data duration: 27239.044\n",
      "Labels duration 27238\n"
     ]
    }
   ],
   "source": [
    "# Let's have a look at the data duration\n",
    "for i, (data, target) in enumerate(training_data):\n",
    "    print()\n",
    "    print(f\"Recording {i}\")\n",
    "    print(\"Data shape\", data.shape, target.shape)\n",
    "    print(\"Data duration:\", data.shape[1] / 250)\n",
    "    print(\"Labels duration\", target.shape[1] * 2)"
   ]
  },
  {
   "cell_type": "markdown",
   "id": "23fea810",
   "metadata": {
    "papermill": {
     "duration": 0.009687,
     "end_time": "2024-10-14T15:24:47.742785",
     "exception": false,
     "start_time": "2024-10-14T15:24:47.733098",
     "status": "completed"
    },
    "tags": []
   },
   "source": [
    "## Data Visualization\n"
   ]
  },
  {
   "cell_type": "code",
   "execution_count": 3,
   "id": "93cabef6",
   "metadata": {},
   "outputs": [],
   "source": [
    "## We improve a bit the plotting code to plot span of data and corresponding label\n",
    "def plot_predictions_and_signal(\n",
    "    target,\n",
    "    data,\n",
    "    start_time: float,\n",
    "    stop_time: float,\n",
    "    data_sampling_rate: int = 250,\n",
    "    target_duration: int = 2,\n",
    "    channel_to_plot: int = 0,\n",
    "):\n",
    "    # Calculate the start and stop indices for the signal\n",
    "    start_idx_signal = int(start_time * data_sampling_rate)\n",
    "    stop_idx_signal = int(stop_time * data_sampling_rate)\n",
    "\n",
    "    # Calculate the start and stop indices for the labels\n",
    "    start_idx_label = int(start_time / target_duration)\n",
    "    stop_idx_label = int(stop_time / target_duration)\n",
    "\n",
    "    # Slice the data and prediction probabilities\n",
    "    sliced_signal = data[channel_to_plot, start_idx_signal:stop_idx_signal]\n",
    "    sliced_prediction_prob = target[channel_to_plot, start_idx_label:stop_idx_label]\n",
    "\n",
    "    fig, ax = plt.subplots(1, 1, figsize=(10, 3))\n",
    "\n",
    "    # Plot the sliced EEG signal\n",
    "    ax.plot(np.arange(len(sliced_signal)) / data_sampling_rate, sliced_signal)\n",
    "    ax.set_title(\"EEG signal\")\n",
    "    ax.set_xlabel(\"Time (s)\")\n",
    "    ax.set_ylabel(\"Amplitude\")\n",
    "\n",
    "    ax_tw = ax.twinx()\n",
    "    ax_tw.scatter(\n",
    "        np.arange(len(sliced_prediction_prob)) * target_duration,\n",
    "        sliced_prediction_prob,\n",
    "        color=\"r\",\n",
    "        marker=\"o\",\n",
    "        alpha=0.7,\n",
    "    )\n",
    "    ax_tw.set_xlabel(\"Time (s)\")\n",
    "    ax_tw.set_ylabel(\"Probs\")\n",
    "    ax_tw.set_ylim(-0.1, 1.1)\n",
    "    plt.tight_layout()\n",
    "\n",
    "    plt.show()"
   ]
  },
  {
   "cell_type": "code",
   "execution_count": 4,
   "id": "69c48460",
   "metadata": {
    "execution": {
     "iopub.execute_input": "2024-10-14T15:24:49.150969Z",
     "iopub.status.busy": "2024-10-14T15:24:49.150541Z",
     "iopub.status.idle": "2024-10-14T15:24:49.809911Z",
     "shell.execute_reply": "2024-10-14T15:24:49.808668Z"
    },
    "papermill": {
     "duration": 0.675744,
     "end_time": "2024-10-14T15:24:49.812798",
     "exception": false,
     "start_time": "2024-10-14T15:24:49.137054",
     "status": "completed"
    },
    "tags": []
   },
   "outputs": [
    {
     "name": "stdout",
     "output_type": "stream",
     "text": [
      "0.5086964831804281\n"
     ]
    },
    {
     "data": {
      "image/png": "[encoded data removed]",
      "text/plain": [
       "<Figure size 1000x300 with 2 Axes>"
      ]
     },
     "metadata": {},
     "output_type": "display_data"
    }
   ],
   "source": [
    "# We first plot the data and target from the first recording\n",
    "# We see that there is a big DC component\n",
    "target = np.load(ROOT_PATH + \"/target_1.npy\")\n",
    "data = np.load(ROOT_PATH + \"/data_1.npy\")\n",
    "\n",
    "print(np.mean(target))\n",
    "\n",
    "plot_predictions_and_signal(\n",
    "    target,\n",
    "    data,\n",
    "    start_time=300,\n",
    "    stop_time=350,\n",
    "    channel_to_plot=1,\n",
    ")"
   ]
  },
  {
   "cell_type": "markdown",
   "id": "9a70289e",
   "metadata": {
    "papermill": {
     "duration": 0.012781,
     "end_time": "2024-10-14T15:24:49.838925",
     "exception": false,
     "start_time": "2024-10-14T15:24:49.826144",
     "status": "completed"
    },
    "tags": []
   },
   "source": [
    "To remove the DC component and high frequency component we apply a band-pass filter\n"
   ]
  },
  {
   "cell_type": "markdown",
   "id": "21492985",
   "metadata": {},
   "source": [
    "# Data Filtering\n"
   ]
  },
  {
   "cell_type": "code",
   "execution_count": 5,
   "id": "358eb719",
   "metadata": {},
   "outputs": [],
   "source": [
    "def butter_bandpass(lowcut, highcut, fs, order=5):\n",
    "    return butter(order, [lowcut, highcut], fs=fs, btype=\"band\")\n",
    "\n",
    "\n",
    "def butter_bandpass_filter(data, lowcut, highcut, fs, order=5):\n",
    "    b, a = butter_bandpass(lowcut, highcut, fs, order=order)\n",
    "    y = lfilter(b, a, data)\n",
    "    return y"
   ]
  },
  {
   "cell_type": "code",
   "execution_count": 6,
   "id": "50f8f999",
   "metadata": {
    "execution": {
     "iopub.execute_input": "2024-10-14T15:24:49.867440Z",
     "iopub.status.busy": "2024-10-14T15:24:49.866928Z",
     "iopub.status.idle": "2024-10-14T15:24:51.779038Z",
     "shell.execute_reply": "2024-10-14T15:24:51.777775Z"
    },
    "papermill": {
     "duration": 1.930394,
     "end_time": "2024-10-14T15:24:51.782569",
     "exception": false,
     "start_time": "2024-10-14T15:24:49.852175",
     "status": "completed"
    },
    "tags": []
   },
   "outputs": [
    {
     "data": {
      "image/png": "[encoded data removed]",
      "text/plain": [
       "<Figure size 1000x300 with 2 Axes>"
      ]
     },
     "metadata": {},
     "output_type": "display_data"
    },
    {
     "data": {
      "image/png": "[encoded data removed]",
      "text/plain": [
       "<Figure size 1000x300 with 2 Axes>"
      ]
     },
     "metadata": {},
     "output_type": "display_data"
    },
    {
     "data": {
      "image/png": "[encoded data removed]",
      "text/plain": [
       "<Figure size 1000x300 with 2 Axes>"
      ]
     },
     "metadata": {},
     "output_type": "display_data"
    }
   ],
   "source": [
    "filtered_data = butter_bandpass_filter(data, 0.1, 18, 250, 4)\n",
    "# We plot three spans and associated labels from the recording\n",
    "\n",
    "plot_predictions_and_signal(\n",
    "    target,\n",
    "    filtered_data,\n",
    "    start_time=300,\n",
    "    stop_time=350,\n",
    "    channel_to_plot=2,\n",
    ")\n",
    "plot_predictions_and_signal(\n",
    "    target,\n",
    "    filtered_data,\n",
    "    start_time=350,\n",
    "    stop_time=400,\n",
    "    channel_to_plot=2,\n",
    ")\n",
    "plot_predictions_and_signal(\n",
    "    target,\n",
    "    filtered_data,\n",
    "    start_time=400,\n",
    "    stop_time=450,\n",
    "    channel_to_plot=2,\n",
    ")"
   ]
  },
  {
   "cell_type": "markdown",
   "id": "d8395f3e",
   "metadata": {
    "papermill": {
     "duration": 0.016974,
     "end_time": "2024-10-14T15:24:51.817244",
     "exception": false,
     "start_time": "2024-10-14T15:24:51.800270",
     "status": "completed"
    },
    "tags": []
   },
   "source": [
    "We see that some of the high amplitude is classified as bad quality, we could use that to build a first simple model\n"
   ]
  },
  {
   "cell_type": "markdown",
   "id": "12643277",
   "metadata": {
    "execution": {
     "iopub.execute_input": "2024-10-14T08:31:53.343763Z",
     "iopub.status.busy": "2024-10-14T08:31:53.342925Z",
     "iopub.status.idle": "2024-10-14T08:31:53.575973Z",
     "shell.execute_reply": "2024-10-14T08:31:53.575006Z",
     "shell.execute_reply.started": "2024-10-14T08:31:53.343718Z"
    },
    "papermill": {
     "duration": 0.017102,
     "end_time": "2024-10-14T15:24:51.851375",
     "exception": false,
     "start_time": "2024-10-14T15:24:51.834273",
     "status": "completed"
    },
    "tags": []
   },
   "source": [
    "## Reshape the data by windowing\n"
   ]
  },
  {
   "cell_type": "code",
   "execution_count": 7,
   "id": "1d9ee7b3",
   "metadata": {
    "execution": {
     "iopub.execute_input": "2024-10-14T15:24:51.887581Z",
     "iopub.status.busy": "2024-10-14T15:24:51.887112Z",
     "iopub.status.idle": "2024-10-14T15:24:51.895547Z",
     "shell.execute_reply": "2024-10-14T15:24:51.894179Z"
    },
    "papermill": {
     "duration": 0.029723,
     "end_time": "2024-10-14T15:24:51.898177",
     "exception": false,
     "start_time": "2024-10-14T15:24:51.868454",
     "status": "completed"
    },
    "tags": []
   },
   "outputs": [],
   "source": [
    "# First we need to get the point that maps to a label\n",
    "\n",
    "\n",
    "def reshape_array_into_windows(x, sample_rate, window_duration_in_seconds):\n",
    "    \"\"\"\n",
    "    Reshape the data into an array of shape (C, T, window) where 'window' contains\n",
    "    the points corresponding to 'window_duration' seconds of data.\n",
    "\n",
    "    Parameters:\n",
    "    x (numpy array): The input data array.\n",
    "    sample_rate (int): The number of samples per second.\n",
    "    window_duration_in_seconds (float): The duration of each window in seconds.\n",
    "\n",
    "    Returns:\n",
    "    reshaped_x (numpy array): The reshaped array with shape (C, T, window).\n",
    "    \"\"\"\n",
    "    # Calculate the number of samples in one window\n",
    "    window_size = int(window_duration_in_seconds * sample_rate)\n",
    "\n",
    "    # Ensure the total length of x is a multiple of window_size\n",
    "    total_samples = x.shape[-1]\n",
    "    if total_samples % window_size != 0:\n",
    "        # Truncate or pad x to make it divisible by window_size\n",
    "        x = x[..., : total_samples - (total_samples % window_size)]\n",
    "    # Reshape x into (C, T, window)\n",
    "    reshaped_x = x.reshape(x.shape[0], -1, window_size)\n",
    "\n",
    "    return reshaped_x"
   ]
  },
  {
   "cell_type": "code",
   "execution_count": 8,
   "id": "db0d4186",
   "metadata": {
    "execution": {
     "iopub.execute_input": "2024-10-14T15:24:51.934466Z",
     "iopub.status.busy": "2024-10-14T15:24:51.933974Z",
     "iopub.status.idle": "2024-10-14T15:24:51.941982Z",
     "shell.execute_reply": "2024-10-14T15:24:51.940821Z"
    },
    "papermill": {
     "duration": 0.029453,
     "end_time": "2024-10-14T15:24:51.944744",
     "exception": false,
     "start_time": "2024-10-14T15:24:51.915291",
     "status": "completed"
    },
    "tags": []
   },
   "outputs": [
    {
     "name": "stdout",
     "output_type": "stream",
     "text": [
      "Initial Data Shape :  (5, 5232364)\n",
      "Reshaped Array Shape :  (5, 10464, 500)\n"
     ]
    }
   ],
   "source": [
    "reshaped_array = reshape_array_into_windows(filtered_data, 250, 2)\n",
    "assert np.array_equal(reshaped_array[0, 0], filtered_data[0, :500])  # Quick unit\n",
    "print(\"Initial Data Shape : \", data.shape)\n",
    "print(\"Reshaped Array Shape : \", reshaped_array.shape)"
   ]
  },
  {
   "cell_type": "markdown",
   "id": "80f2f8e9",
   "metadata": {},
   "source": [
    "`reshaped_array` is now a 3D array with `(channel_of_EEG, number of windows, window_size)`\n",
    "We will calculate the mean and standard deviation of the EEG for each channel and window and then reshape have a unidimension format `(number of windows)` because we want a dataset in the format `(window_i_j, features)` where `i` is the channel and `j` is the window\n"
   ]
  },
  {
   "cell_type": "markdown",
   "id": "c478139c",
   "metadata": {
    "papermill": {
     "duration": 0.019931,
     "end_time": "2024-10-14T15:24:52.884414",
     "exception": false,
     "start_time": "2024-10-14T15:24:52.864483",
     "status": "completed"
    },
    "tags": []
   },
   "source": [
    "## Gather Data from all the files\n"
   ]
  },
  {
   "cell_type": "code",
   "execution_count": 9,
   "id": "645978fc",
   "metadata": {
    "execution": {
     "iopub.execute_input": "2024-10-14T15:24:52.922303Z",
     "iopub.status.busy": "2024-10-14T15:24:52.921870Z",
     "iopub.status.idle": "2024-10-14T15:24:55.959691Z",
     "shell.execute_reply": "2024-10-14T15:24:55.958376Z"
    },
    "papermill": {
     "duration": 3.060289,
     "end_time": "2024-10-14T15:24:55.962698",
     "exception": false,
     "start_time": "2024-10-14T15:24:52.902409",
     "status": "completed"
    },
    "tags": []
   },
   "outputs": [],
   "source": [
    "all_data = []\n",
    "all_targets = []\n",
    "all_channel_indices = []\n",
    "\n",
    "# Iterate over the data\n",
    "for data, target in training_data:\n",
    "    # Shapes: data, target -> (5, 7712740), (5, 15425)\n",
    "    filtered_data = butter_bandpass_filter(data, 0.1, 18, 250, 4)  # Shape: (5, 7712740)\n",
    "    windowed_data = reshape_array_into_windows(\n",
    "        filtered_data, 250, 2\n",
    "    )  # Shape: (5, 15425, 500)\n",
    "    targets_flatten = target[..., : windowed_data.shape[1]].reshape(\n",
    "        -1\n",
    "    )  # Shape: (77125,)\n",
    "\n",
    "    # Reshape data and track channel indices\n",
    "    flattened_data = windowed_data.reshape(\n",
    "        (-1, windowed_data.shape[-1])\n",
    "    )  # Shape: (77125, 500)\n",
    "    num_samples_per_channel = windowed_data.shape[1]\n",
    "    channel_indices = np.repeat(\n",
    "        np.arange(data.shape[0]), num_samples_per_channel\n",
    "    )  # Shape: (77125,)\n",
    "\n",
    "    # Append to the lists\n",
    "    all_data.append(flattened_data)\n",
    "    all_targets.append(targets_flatten)\n",
    "    all_channel_indices.append(channel_indices)\n",
    "\n",
    "# Concatenate all data, targets, and channel indices\n",
    "all_data = np.concatenate(all_data)\n",
    "all_targets = np.concatenate(all_targets)\n",
    "all_channel_indices = np.concatenate(all_channel_indices)\n",
    "\n",
    "assert all_data.shape[0] == all_targets.shape[0] == all_channel_indices.shape[0]"
   ]
  },
  {
   "cell_type": "markdown",
   "id": "676e36ed",
   "metadata": {},
   "source": [
    "`all_data` contains all the training data with shape `(number of windows, window_size)` and `all_labels` contains the labels with shape `(number of windows)`. All EEG were concatenated.\n",
    "\\\n",
    "\\\n",
    "Note : One butterworth filter was applied to all the EEG data\n"
   ]
  },
  {
   "cell_type": "markdown",
   "id": "3d262b99",
   "metadata": {},
   "source": [
    "# Feature creation\n"
   ]
  },
  {
   "cell_type": "code",
   "execution_count": 10,
   "id": "e7e55e59",
   "metadata": {},
   "outputs": [],
   "source": [
    "# This will be our dataframe where we will progressively add features calculated from all_data\n",
    "df = pd.DataFrame({\"target\": all_targets, \"channel\": all_channel_indices})"
   ]
  },
  {
   "cell_type": "markdown",
   "id": "3a0178ea",
   "metadata": {},
   "source": [
    "### Amplitude\n"
   ]
  },
  {
   "cell_type": "code",
   "execution_count": 11,
   "id": "82c6b27d",
   "metadata": {
    "execution": {
     "iopub.execute_input": "2024-10-14T15:24:56.000229Z",
     "iopub.status.busy": "2024-10-14T15:24:55.999803Z",
     "iopub.status.idle": "2024-10-14T15:24:56.262143Z",
     "shell.execute_reply": "2024-10-14T15:24:56.260811Z"
    },
    "papermill": {
     "duration": 0.284494,
     "end_time": "2024-10-14T15:24:56.265021",
     "exception": false,
     "start_time": "2024-10-14T15:24:55.980527",
     "status": "completed"
    },
    "tags": []
   },
   "outputs": [],
   "source": [
    "# We can now compute the mean, max and stdev over each 2 seconds segment to try to build features\n",
    "amplitude = (np.max(all_data, -1) - np.min(all_data, -1)).reshape(-1)\n",
    "df[\"log_amplitude\"] = np.log(amplitude + 1)"
   ]
  },
  {
   "cell_type": "code",
   "execution_count": 12,
   "id": "c6bf7357",
   "metadata": {},
   "outputs": [
    {
     "data": {
      "text/plain": [
       "<Axes: xlabel='log_amplitude'>"
      ]
     },
     "execution_count": 12,
     "metadata": {},
     "output_type": "execute_result"
    },
    {
     "data": {
      "image/png": "[encoded data removed]",
      "text/plain": [
       "<Figure size 640x480 with 1 Axes>"
      ]
     },
     "metadata": {},
     "output_type": "display_data"
    }
   ],
   "source": [
    "sns.boxplot(df, x=\"log_amplitude\", hue=\"target\")"
   ]
  },
  {
   "cell_type": "markdown",
   "id": "30cc4691",
   "metadata": {},
   "source": [
    "### Mean\n"
   ]
  },
  {
   "cell_type": "code",
   "execution_count": 13,
   "id": "716bc93f",
   "metadata": {},
   "outputs": [],
   "source": [
    "mean = np.mean(all_data, -1).reshape(-1)\n",
    "rescaled_mean = mean + abs(mean.min())\n",
    "df[\"mean\"] = mean"
   ]
  },
  {
   "cell_type": "code",
   "execution_count": 14,
   "id": "bc45b9b1",
   "metadata": {},
   "outputs": [
    {
     "data": {
      "text/plain": [
       "<Axes: xlabel='mean'>"
      ]
     },
     "execution_count": 14,
     "metadata": {},
     "output_type": "execute_result"
    },
    {
     "data": {
      "image/png": "[encoded data removed]",
      "text/plain": [
       "<Figure size 640x480 with 1 Axes>"
      ]
     },
     "metadata": {},
     "output_type": "display_data"
    }
   ],
   "source": [
    "sns.boxplot(df, x=\"mean\", hue=\"target\")"
   ]
  },
  {
   "cell_type": "markdown",
   "id": "2bcac2f5",
   "metadata": {},
   "source": [
    "### Min and Max\n"
   ]
  },
  {
   "cell_type": "code",
   "execution_count": 15,
   "id": "5eb688ee",
   "metadata": {},
   "outputs": [],
   "source": [
    "min = np.min(all_data, -1).reshape(-1)\n",
    "max = np.max(all_data, -1).reshape(-1)\n",
    "df[\"min\"] = min\n",
    "df[\"max\"] = max"
   ]
  },
  {
   "cell_type": "code",
   "execution_count": 16,
   "id": "e148f6db",
   "metadata": {},
   "outputs": [
    {
     "data": {
      "text/plain": [
       "<Axes: xlabel='max'>"
      ]
     },
     "execution_count": 16,
     "metadata": {},
     "output_type": "execute_result"
    },
    {
     "data": {
      "image/png": "[encoded data removed]",
      "text/plain": [
       "<Figure size 640x480 with 1 Axes>"
      ]
     },
     "metadata": {},
     "output_type": "display_data"
    }
   ],
   "source": [
    "sns.boxplot(df, x=\"max\", hue=\"target\")"
   ]
  },
  {
   "cell_type": "markdown",
   "id": "a763c36b",
   "metadata": {},
   "source": [
    "### Standard Deviation\n"
   ]
  },
  {
   "cell_type": "code",
   "execution_count": 17,
   "id": "ac1483e2",
   "metadata": {},
   "outputs": [],
   "source": [
    "std = (np.std(all_data, axis=-1)).reshape(-1)\n",
    "df[\"log_std\"] = np.log(std + 1)"
   ]
  },
  {
   "cell_type": "code",
   "execution_count": 18,
   "id": "c1469e7f",
   "metadata": {},
   "outputs": [
    {
     "data": {
      "text/plain": [
       "<Axes: xlabel='log_std'>"
      ]
     },
     "execution_count": 18,
     "metadata": {},
     "output_type": "execute_result"
    },
    {
     "data": {
      "image/png": "[encoded data removed]",
      "text/plain": [
       "<Figure size 640x480 with 1 Axes>"
      ]
     },
     "metadata": {},
     "output_type": "display_data"
    }
   ],
   "source": [
    "sns.boxplot(df, x=\"log_std\", hue=\"target\")"
   ]
  },
  {
   "cell_type": "markdown",
   "id": "122eac73",
   "metadata": {},
   "source": [
    "### Skew\n"
   ]
  },
  {
   "cell_type": "code",
   "execution_count": 19,
   "id": "9e3da8fe",
   "metadata": {},
   "outputs": [],
   "source": [
    "from scipy.stats import skew\n",
    "\n",
    "skewness = (skew(all_data, axis=-1)).reshape(-1)\n",
    "df[\"skewness\"] = skewness"
   ]
  },
  {
   "cell_type": "code",
   "execution_count": 20,
   "id": "270bd14c",
   "metadata": {},
   "outputs": [
    {
     "data": {
      "text/plain": [
       "<Axes: xlabel='skewness'>"
      ]
     },
     "execution_count": 20,
     "metadata": {},
     "output_type": "execute_result"
    },
    {
     "data": {
      "image/png": "[encoded data removed]",
      "text/plain": [
       "<Figure size 640x480 with 1 Axes>"
      ]
     },
     "metadata": {},
     "output_type": "display_data"
    }
   ],
   "source": [
    "sns.boxplot(df, x=\"skewness\", hue=\"target\")"
   ]
  },
  {
   "cell_type": "markdown",
   "id": "e0af7b34",
   "metadata": {},
   "source": [
    "### Kurtosis\n"
   ]
  },
  {
   "cell_type": "code",
   "execution_count": 21,
   "id": "2c7c95a7",
   "metadata": {},
   "outputs": [],
   "source": [
    "from scipy.stats import kurtosis\n",
    "\n",
    "kurt = (kurtosis(all_data, axis=-1)).reshape(-1)\n",
    "df[\"log_kurtosis\"] = np.log(kurt + np.abs(np.min(kurt)) + 1)"
   ]
  },
  {
   "cell_type": "code",
   "execution_count": 22,
   "id": "b7d39570",
   "metadata": {},
   "outputs": [
    {
     "data": {
      "text/plain": [
       "<Axes: xlabel='log_kurtosis'>"
      ]
     },
     "execution_count": 22,
     "metadata": {},
     "output_type": "execute_result"
    },
    {
     "data": {
      "image/png": "[encoded data removed]",
      "text/plain": [
       "<Figure size 640x480 with 1 Axes>"
      ]
     },
     "metadata": {},
     "output_type": "display_data"
    }
   ],
   "source": [
    "sns.boxplot(df, x=\"log_kurtosis\", hue=\"target\")"
   ]
  },
  {
   "cell_type": "markdown",
   "id": "33de76bd",
   "metadata": {},
   "source": [
    "### MMD (Min Max Distance)\n",
    "\n",
    "It allows to calculate the pythagoeran distance between the min and max of the EEG signal.\n"
   ]
  },
  {
   "cell_type": "code",
   "execution_count": 23,
   "id": "4d64300c",
   "metadata": {},
   "outputs": [],
   "source": [
    "idx_diff_between_max_and_min = (\n",
    "    np.argmax(all_data, axis=-1) - np.argmin(all_data, axis=-1)\n",
    ").reshape(-1)\n",
    "amplitude = (np.max(all_data, -1) - np.min(all_data, -1)).reshape(-1)\n",
    "MMD = idx_diff_between_max_and_min**2 + amplitude**2\n",
    "df[\"log_MMD\"] = np.log(MMD + 1)"
   ]
  },
  {
   "cell_type": "code",
   "execution_count": 24,
   "id": "dbb6e3c0",
   "metadata": {},
   "outputs": [
    {
     "data": {
      "text/plain": [
       "<Axes: xlabel='log_MMD'>"
      ]
     },
     "execution_count": 24,
     "metadata": {},
     "output_type": "execute_result"
    },
    {
     "data": {
      "image/png": "[encoded data removed]",
      "text/plain": [
       "<Figure size 640x480 with 1 Axes>"
      ]
     },
     "metadata": {},
     "output_type": "display_data"
    }
   ],
   "source": [
    "sns.boxplot(df, x=\"log_MMD\", hue=\"target\")"
   ]
  },
  {
   "cell_type": "markdown",
   "id": "94b28f1c",
   "metadata": {},
   "source": [
    "### Energy of the signal\n"
   ]
  },
  {
   "cell_type": "code",
   "execution_count": 25,
   "id": "3616b4e0",
   "metadata": {},
   "outputs": [],
   "source": [
    "# Calculate energy of signal\n",
    "energy = (np.sum(all_data**2, axis=-1)).reshape(-1)\n",
    "df[\"log_energy\"] = np.log(energy + 1)"
   ]
  },
  {
   "cell_type": "code",
   "execution_count": 26,
   "id": "6c240bed",
   "metadata": {},
   "outputs": [
    {
     "data": {
      "text/plain": [
       "<Axes: xlabel='log_energy'>"
      ]
     },
     "execution_count": 26,
     "metadata": {},
     "output_type": "execute_result"
    },
    {
     "data": {
      "image/png": "[encoded data removed]",
      "text/plain": [
       "<Figure size 640x480 with 1 Axes>"
      ]
     },
     "metadata": {},
     "output_type": "display_data"
    }
   ],
   "source": [
    "sns.boxplot(df, x=\"log_energy\", hue=\"target\")"
   ]
  },
  {
   "cell_type": "markdown",
   "id": "e43497ec",
   "metadata": {},
   "source": [
    "### Esis\n"
   ]
  },
  {
   "cell_type": "markdown",
   "id": "24fec4ad",
   "metadata": {},
   "source": [
    "### Decomposition of the signal (DWT = Discrete Wavelet Transform)\n"
   ]
  },
  {
   "cell_type": "markdown",
   "id": "71c4b40d",
   "metadata": {},
   "source": [
    "### Decomposition of the signal into trend, seasonality and residuals\n"
   ]
  },
  {
   "cell_type": "code",
   "execution_count": 27,
   "id": "8562e881",
   "metadata": {},
   "outputs": [],
   "source": [
    "# Add linear trend of the window\n",
    "from scipy.stats import linregress\n",
    "\n",
    "linear_trend = np.apply_along_axis(\n",
    "    lambda x: linregress(np.arange(len(x)), x).slope, -1, all_data\n",
    ").reshape(-1)\n",
    "df[\"linear_trend\"] = linear_trend"
   ]
  },
  {
   "cell_type": "code",
   "execution_count": 28,
   "id": "ae12db49",
   "metadata": {},
   "outputs": [
    {
     "data": {
      "text/plain": [
       "<Axes: xlabel='linear_trend'>"
      ]
     },
     "execution_count": 28,
     "metadata": {},
     "output_type": "execute_result"
    },
    {
     "data": {
      "image/png": "[encoded data removed]",
      "text/plain": [
       "<Figure size 640x480 with 1 Axes>"
      ]
     },
     "metadata": {},
     "output_type": "display_data"
    }
   ],
   "source": [
    "sns.boxplot(df, x=\"linear_trend\", hue=\"target\")"
   ]
  },
  {
   "cell_type": "markdown",
   "id": "bc2cc668",
   "metadata": {},
   "source": [
    "### Autocorrelation of the signal\n"
   ]
  },
  {
   "cell_type": "code",
   "execution_count": 29,
   "id": "e9887dbb",
   "metadata": {},
   "outputs": [],
   "source": [
    "# Add autocorrelation of each window\n",
    "\n",
    "from scipy.signal import correlate"
   ]
  },
  {
   "cell_type": "markdown",
   "id": "6d79f087",
   "metadata": {},
   "source": [
    "### Number of zero crossings\n"
   ]
  },
  {
   "cell_type": "code",
   "execution_count": 30,
   "id": "ec51bfed",
   "metadata": {},
   "outputs": [],
   "source": [
    "# Calculate the number of zero crossings for each window\n",
    "def zero_crossings(x):\n",
    "    return np.sum(np.diff(np.sign(x)) != 0)\n",
    "\n",
    "\n",
    "zero_cross = np.apply_along_axis(zero_crossings, -1, all_data).reshape(-1)\n",
    "df[\"zero_crossing\"] = zero_cross"
   ]
  },
  {
   "cell_type": "code",
   "execution_count": 31,
   "id": "526135a0",
   "metadata": {},
   "outputs": [
    {
     "data": {
      "text/plain": [
       "<Axes: xlabel='zero_crossing'>"
      ]
     },
     "execution_count": 31,
     "metadata": {},
     "output_type": "execute_result"
    },
    {
     "data": {
      "image/png": "[encoded data removed]",
      "text/plain": [
       "<Figure size 640x480 with 1 Axes>"
      ]
     },
     "metadata": {},
     "output_type": "display_data"
    }
   ],
   "source": [
    "sns.boxplot(df, x=\"zero_crossing\", hue=\"target\")"
   ]
  },
  {
   "cell_type": "markdown",
   "id": "4a3f2df4",
   "metadata": {},
   "source": [
    "### Number of peaks\n"
   ]
  },
  {
   "cell_type": "code",
   "execution_count": 32,
   "id": "64818856",
   "metadata": {},
   "outputs": [],
   "source": [
    "# Count the number of peaks in each window\n",
    "from scipy.signal import find_peaks\n",
    "\n",
    "\n",
    "def count_peaks(x):\n",
    "    return len(find_peaks(x)[0])\n",
    "\n",
    "\n",
    "peaks = np.apply_along_axis(count_peaks, -1, all_data).reshape(-1)\n",
    "df[\"peaks\"] = peaks"
   ]
  },
  {
   "cell_type": "code",
   "execution_count": 33,
   "id": "86851cb0",
   "metadata": {},
   "outputs": [
    {
     "data": {
      "text/plain": [
       "<Axes: xlabel='peaks'>"
      ]
     },
     "execution_count": 33,
     "metadata": {},
     "output_type": "execute_result"
    },
    {
     "data": {
      "image/png": "[encoded data removed]",
      "text/plain": [
       "<Figure size 640x480 with 1 Axes>"
      ]
     },
     "metadata": {},
     "output_type": "display_data"
    }
   ],
   "source": [
    "sns.boxplot(df, x=\"peaks\", hue=\"target\")"
   ]
  },
  {
   "cell_type": "markdown",
   "id": "776b5f79",
   "metadata": {},
   "source": [
    "# EDA & Data Quality Check\n"
   ]
  },
  {
   "cell_type": "code",
   "execution_count": 34,
   "id": "4d657f18",
   "metadata": {},
   "outputs": [
    {
     "data": {
      "text/plain": [
       "target           0\n",
       "channel          0\n",
       "log_amplitude    0\n",
       "mean             0\n",
       "min              0\n",
       "max              0\n",
       "log_std          0\n",
       "skewness         0\n",
       "log_kurtosis     0\n",
       "log_MMD          0\n",
       "log_energy       0\n",
       "linear_trend     0\n",
       "zero_crossing    0\n",
       "peaks            0\n",
       "dtype: int64"
      ]
     },
     "execution_count": 34,
     "metadata": {},
     "output_type": "execute_result"
    }
   ],
   "source": [
    "df.isna().sum()"
   ]
  },
  {
   "cell_type": "code",
   "execution_count": 35,
   "id": "2226e861",
   "metadata": {},
   "outputs": [
    {
     "data": {
      "text/html": [
       "<div>\n",
       "<style scoped>\n",
       "    .dataframe tbody tr th:only-of-type {\n",
       "        vertical-align: middle;\n",
       "    }\n",
       "\n",
       "    .dataframe tbody tr th {\n",
       "        vertical-align: top;\n",
       "    }\n",
       "\n",
       "    .dataframe thead th {\n",
       "        text-align: right;\n",
       "    }\n",
       "</style>\n",
       "<table border=\"1\" class=\"dataframe\">\n",
       "  <thead>\n",
       "    <tr style=\"text-align: right;\">\n",
       "      <th></th>\n",
       "      <th>target</th>\n",
       "      <th>channel</th>\n",
       "      <th>log_amplitude</th>\n",
       "      <th>mean</th>\n",
       "      <th>min</th>\n",
       "      <th>max</th>\n",
       "      <th>log_std</th>\n",
       "      <th>skewness</th>\n",
       "      <th>log_kurtosis</th>\n",
       "      <th>log_MMD</th>\n",
       "      <th>log_energy</th>\n",
       "      <th>linear_trend</th>\n",
       "      <th>zero_crossing</th>\n",
       "      <th>peaks</th>\n",
       "    </tr>\n",
       "  </thead>\n",
       "  <tbody>\n",
       "    <tr>\n",
       "      <th>0</th>\n",
       "      <td>0</td>\n",
       "      <td>0</td>\n",
       "      <td>10.261250</td>\n",
       "      <td>1245.339194</td>\n",
       "      <td>-7130.450154</td>\n",
       "      <td>21471.069232</td>\n",
       "      <td>8.959498</td>\n",
       "      <td>0.764981</td>\n",
       "      <td>0.811391</td>\n",
       "      <td>20.522720</td>\n",
       "      <td>24.158645</td>\n",
       "      <td>-50.698929</td>\n",
       "      <td>1</td>\n",
       "      <td>3</td>\n",
       "    </tr>\n",
       "    <tr>\n",
       "      <th>1</th>\n",
       "      <td>0</td>\n",
       "      <td>0</td>\n",
       "      <td>8.923717</td>\n",
       "      <td>-4967.769465</td>\n",
       "      <td>-7984.635913</td>\n",
       "      <td>-477.688412</td>\n",
       "      <td>7.797374</td>\n",
       "      <td>0.305130</td>\n",
       "      <td>0.438344</td>\n",
       "      <td>17.850264</td>\n",
       "      <td>23.451093</td>\n",
       "      <td>16.395815</td>\n",
       "      <td>0</td>\n",
       "      <td>5</td>\n",
       "    </tr>\n",
       "    <tr>\n",
       "      <th>2</th>\n",
       "      <td>0</td>\n",
       "      <td>0</td>\n",
       "      <td>8.309466</td>\n",
       "      <td>2367.076976</td>\n",
       "      <td>-465.337390</td>\n",
       "      <td>3595.805041</td>\n",
       "      <td>7.082385</td>\n",
       "      <td>-0.796025</td>\n",
       "      <td>0.822718</td>\n",
       "      <td>16.631632</td>\n",
       "      <td>21.978695</td>\n",
       "      <td>7.847963</td>\n",
       "      <td>1</td>\n",
       "      <td>13</td>\n",
       "    </tr>\n",
       "    <tr>\n",
       "      <th>3</th>\n",
       "      <td>0</td>\n",
       "      <td>0</td>\n",
       "      <td>7.691416</td>\n",
       "      <td>2762.803937</td>\n",
       "      <td>1439.098032</td>\n",
       "      <td>3627.571220</td>\n",
       "      <td>6.546664</td>\n",
       "      <td>-0.313611</td>\n",
       "      <td>0.480159</td>\n",
       "      <td>15.425152</td>\n",
       "      <td>22.124127</td>\n",
       "      <td>-4.742306</td>\n",
       "      <td>0</td>\n",
       "      <td>17</td>\n",
       "    </tr>\n",
       "    <tr>\n",
       "      <th>4</th>\n",
       "      <td>0</td>\n",
       "      <td>0</td>\n",
       "      <td>7.771744</td>\n",
       "      <td>9.834008</td>\n",
       "      <td>-945.135745</td>\n",
       "      <td>1426.469571</td>\n",
       "      <td>6.481641</td>\n",
       "      <td>0.348448</td>\n",
       "      <td>0.631810</td>\n",
       "      <td>15.585964</td>\n",
       "      <td>19.175053</td>\n",
       "      <td>-4.472018</td>\n",
       "      <td>1</td>\n",
       "      <td>21</td>\n",
       "    </tr>\n",
       "  </tbody>\n",
       "</table>\n",
       "</div>"
      ],
      "text/plain": [
       "   target  channel  log_amplitude         mean          min           max  \\\n",
       "0       0        0      10.261250  1245.339194 -7130.450154  21471.069232   \n",
       "1       0        0       8.923717 -4967.769465 -7984.635913   -477.688412   \n",
       "2       0        0       8.309466  2367.076976  -465.337390   3595.805041   \n",
       "3       0        0       7.691416  2762.803937  1439.098032   3627.571220   \n",
       "4       0        0       7.771744     9.834008  -945.135745   1426.469571   \n",
       "\n",
       "    log_std  skewness  log_kurtosis    log_MMD  log_energy  linear_trend  \\\n",
       "0  8.959498  0.764981      0.811391  20.522720   24.158645    -50.698929   \n",
       "1  7.797374  0.305130      0.438344  17.850264   23.451093     16.395815   \n",
       "2  7.082385 -0.796025      0.822718  16.631632   21.978695      7.847963   \n",
       "3  6.546664 -0.313611      0.480159  15.425152   22.124127     -4.742306   \n",
       "4  6.481641  0.348448      0.631810  15.585964   19.175053     -4.472018   \n",
       "\n",
       "   zero_crossing  peaks  \n",
       "0              1      3  \n",
       "1              0      5  \n",
       "2              1     13  \n",
       "3              0     17  \n",
       "4              1     21  "
      ]
     },
     "execution_count": 35,
     "metadata": {},
     "output_type": "execute_result"
    }
   ],
   "source": [
    "df.head()"
   ]
  },
  {
   "cell_type": "markdown",
   "id": "7abc5464",
   "metadata": {},
   "source": [
    "# Feature selection\n"
   ]
  },
  {
   "cell_type": "code",
   "execution_count": 36,
   "id": "a133371e",
   "metadata": {},
   "outputs": [
    {
     "data": {
      "text/plain": [
       "['target',\n",
       " 'channel',\n",
       " 'log_amplitude',\n",
       " 'mean',\n",
       " 'min',\n",
       " 'max',\n",
       " 'log_std',\n",
       " 'skewness',\n",
       " 'log_kurtosis',\n",
       " 'log_MMD',\n",
       " 'log_energy',\n",
       " 'linear_trend',\n",
       " 'zero_crossing',\n",
       " 'peaks']"
      ]
     },
     "execution_count": 36,
     "metadata": {},
     "output_type": "execute_result"
    }
   ],
   "source": [
    "list(df.columns)"
   ]
  },
  {
   "cell_type": "markdown",
   "id": "b1b5cdb9",
   "metadata": {},
   "source": [
    "# Train test split\n"
   ]
  },
  {
   "cell_type": "markdown",
   "id": "e35544aa",
   "metadata": {},
   "source": [
    "We need to split our data into train and test. However. we need to be careful on how we split because :\n",
    "\n",
    "- If window `i` is in the training set and window `i+1` is in the test set, we will have data leakage because we can expect that the quality of the EEG is correlated between two consecutive windows.\n",
    "- Our data is not balanced, we need to make sure that the train and test set have the same proportion of good and bad quality EEG.\n",
    "\n",
    "We will :\n",
    "\n",
    "- Shuffle the data to remove the data leakage\n",
    "- Stratify the data to keep the same proportion of good and bad quality EEG in the train and test set\n"
   ]
  },
  {
   "cell_type": "code",
   "execution_count": 37,
   "id": "3cef3e1e",
   "metadata": {
    "execution": {
     "iopub.execute_input": "2024-10-14T15:24:56.302738Z",
     "iopub.status.busy": "2024-10-14T15:24:56.302219Z",
     "iopub.status.idle": "2024-10-14T15:25:01.926568Z",
     "shell.execute_reply": "2024-10-14T15:25:01.925180Z"
    },
    "papermill": {
     "duration": 5.646957,
     "end_time": "2024-10-14T15:25:01.930015",
     "exception": false,
     "start_time": "2024-10-14T15:24:56.283058",
     "status": "completed"
    },
    "tags": []
   },
   "outputs": [],
   "source": [
    "from sklearn.model_selection import StratifiedShuffleSplit, train_test_split\n",
    "\n",
    "df_shuffled = df.sample(frac=1, random_state=42)\n",
    "X = df_shuffled.drop(\"target\", axis=1)\n",
    "y = df_shuffled[\"target\"]\n",
    "X_train, X_test, y_train, y_test = train_test_split(\n",
    "    X, y, test_size=0.2, stratify=y.values\n",
    ")"
   ]
  },
  {
   "cell_type": "markdown",
   "id": "a448c425",
   "metadata": {},
   "source": [
    "# Baseline models\n"
   ]
  },
  {
   "cell_type": "markdown",
   "id": "0284749e",
   "metadata": {},
   "source": [
    "The goal is to build a simple model that can be used as a baseline. We will use a logistic regression and a random forest.\n"
   ]
  },
  {
   "cell_type": "code",
   "execution_count": 38,
   "id": "1324d95e",
   "metadata": {},
   "outputs": [],
   "source": [
    "from pycaret.classification import ClassificationExperiment"
   ]
  },
  {
   "cell_type": "code",
   "execution_count": 39,
   "id": "3c73a7a7",
   "metadata": {},
   "outputs": [
    {
     "data": {
      "text/html": [
       "<style type=\"text/css\">\n",
       "#T_6df6f_row8_col1 {\n",
       "  background-color: lightgreen;\n",
       "}\n",
       "</style>\n",
       "<table id=\"T_6df6f\">\n",
       "  <thead>\n",
       "    <tr>\n",
       "      <th class=\"blank level0\" >&nbsp;</th>\n",
       "      <th id=\"T_6df6f_level0_col0\" class=\"col_heading level0 col0\" >Description</th>\n",
       "      <th id=\"T_6df6f_level0_col1\" class=\"col_heading level0 col1\" >Value</th>\n",
       "    </tr>\n",
       "  </thead>\n",
       "  <tbody>\n",
       "    <tr>\n",
       "      <th id=\"T_6df6f_level0_row0\" class=\"row_heading level0 row0\" >0</th>\n",
       "      <td id=\"T_6df6f_row0_col0\" class=\"data row0 col0\" >Session id</td>\n",
       "      <td id=\"T_6df6f_row0_col1\" class=\"data row0 col1\" >123</td>\n",
       "    </tr>\n",
       "    <tr>\n",
       "      <th id=\"T_6df6f_level0_row1\" class=\"row_heading level0 row1\" >1</th>\n",
       "      <td id=\"T_6df6f_row1_col0\" class=\"data row1 col0\" >Target</td>\n",
       "      <td id=\"T_6df6f_row1_col1\" class=\"data row1 col1\" >target</td>\n",
       "    </tr>\n",
       "    <tr>\n",
       "      <th id=\"T_6df6f_level0_row2\" class=\"row_heading level0 row2\" >2</th>\n",
       "      <td id=\"T_6df6f_row2_col0\" class=\"data row2 col0\" >Target type</td>\n",
       "      <td id=\"T_6df6f_row2_col1\" class=\"data row2 col1\" >Binary</td>\n",
       "    </tr>\n",
       "    <tr>\n",
       "      <th id=\"T_6df6f_level0_row3\" class=\"row_heading level0 row3\" >3</th>\n",
       "      <td id=\"T_6df6f_row3_col0\" class=\"data row3 col0\" >Original data shape</td>\n",
       "      <td id=\"T_6df6f_row3_col1\" class=\"data row3 col1\" >(261755, 14)</td>\n",
       "    </tr>\n",
       "    <tr>\n",
       "      <th id=\"T_6df6f_level0_row4\" class=\"row_heading level0 row4\" >4</th>\n",
       "      <td id=\"T_6df6f_row4_col0\" class=\"data row4 col0\" >Transformed data shape</td>\n",
       "      <td id=\"T_6df6f_row4_col1\" class=\"data row4 col1\" >(261755, 14)</td>\n",
       "    </tr>\n",
       "    <tr>\n",
       "      <th id=\"T_6df6f_level0_row5\" class=\"row_heading level0 row5\" >5</th>\n",
       "      <td id=\"T_6df6f_row5_col0\" class=\"data row5 col0\" >Transformed train set shape</td>\n",
       "      <td id=\"T_6df6f_row5_col1\" class=\"data row5 col1\" >(183228, 14)</td>\n",
       "    </tr>\n",
       "    <tr>\n",
       "      <th id=\"T_6df6f_level0_row6\" class=\"row_heading level0 row6\" >6</th>\n",
       "      <td id=\"T_6df6f_row6_col0\" class=\"data row6 col0\" >Transformed test set shape</td>\n",
       "      <td id=\"T_6df6f_row6_col1\" class=\"data row6 col1\" >(78527, 14)</td>\n",
       "    </tr>\n",
       "    <tr>\n",
       "      <th id=\"T_6df6f_level0_row7\" class=\"row_heading level0 row7\" >7</th>\n",
       "      <td id=\"T_6df6f_row7_col0\" class=\"data row7 col0\" >Numeric features</td>\n",
       "      <td id=\"T_6df6f_row7_col1\" class=\"data row7 col1\" >13</td>\n",
       "    </tr>\n",
       "    <tr>\n",
       "      <th id=\"T_6df6f_level0_row8\" class=\"row_heading level0 row8\" >8</th>\n",
       "      <td id=\"T_6df6f_row8_col0\" class=\"data row8 col0\" >Preprocess</td>\n",
       "      <td id=\"T_6df6f_row8_col1\" class=\"data row8 col1\" >True</td>\n",
       "    </tr>\n",
       "    <tr>\n",
       "      <th id=\"T_6df6f_level0_row9\" class=\"row_heading level0 row9\" >9</th>\n",
       "      <td id=\"T_6df6f_row9_col0\" class=\"data row9 col0\" >Imputation type</td>\n",
       "      <td id=\"T_6df6f_row9_col1\" class=\"data row9 col1\" >simple</td>\n",
       "    </tr>\n",
       "    <tr>\n",
       "      <th id=\"T_6df6f_level0_row10\" class=\"row_heading level0 row10\" >10</th>\n",
       "      <td id=\"T_6df6f_row10_col0\" class=\"data row10 col0\" >Numeric imputation</td>\n",
       "      <td id=\"T_6df6f_row10_col1\" class=\"data row10 col1\" >mean</td>\n",
       "    </tr>\n",
       "    <tr>\n",
       "      <th id=\"T_6df6f_level0_row11\" class=\"row_heading level0 row11\" >11</th>\n",
       "      <td id=\"T_6df6f_row11_col0\" class=\"data row11 col0\" >Categorical imputation</td>\n",
       "      <td id=\"T_6df6f_row11_col1\" class=\"data row11 col1\" >mode</td>\n",
       "    </tr>\n",
       "    <tr>\n",
       "      <th id=\"T_6df6f_level0_row12\" class=\"row_heading level0 row12\" >12</th>\n",
       "      <td id=\"T_6df6f_row12_col0\" class=\"data row12 col0\" >Fold Generator</td>\n",
       "      <td id=\"T_6df6f_row12_col1\" class=\"data row12 col1\" >StratifiedKFold</td>\n",
       "    </tr>\n",
       "    <tr>\n",
       "      <th id=\"T_6df6f_level0_row13\" class=\"row_heading level0 row13\" >13</th>\n",
       "      <td id=\"T_6df6f_row13_col0\" class=\"data row13 col0\" >Fold Number</td>\n",
       "      <td id=\"T_6df6f_row13_col1\" class=\"data row13 col1\" >10</td>\n",
       "    </tr>\n",
       "    <tr>\n",
       "      <th id=\"T_6df6f_level0_row14\" class=\"row_heading level0 row14\" >14</th>\n",
       "      <td id=\"T_6df6f_row14_col0\" class=\"data row14 col0\" >CPU Jobs</td>\n",
       "      <td id=\"T_6df6f_row14_col1\" class=\"data row14 col1\" >-1</td>\n",
       "    </tr>\n",
       "    <tr>\n",
       "      <th id=\"T_6df6f_level0_row15\" class=\"row_heading level0 row15\" >15</th>\n",
       "      <td id=\"T_6df6f_row15_col0\" class=\"data row15 col0\" >Use GPU</td>\n",
       "      <td id=\"T_6df6f_row15_col1\" class=\"data row15 col1\" >False</td>\n",
       "    </tr>\n",
       "    <tr>\n",
       "      <th id=\"T_6df6f_level0_row16\" class=\"row_heading level0 row16\" >16</th>\n",
       "      <td id=\"T_6df6f_row16_col0\" class=\"data row16 col0\" >Log Experiment</td>\n",
       "      <td id=\"T_6df6f_row16_col1\" class=\"data row16 col1\" >False</td>\n",
       "    </tr>\n",
       "    <tr>\n",
       "      <th id=\"T_6df6f_level0_row17\" class=\"row_heading level0 row17\" >17</th>\n",
       "      <td id=\"T_6df6f_row17_col0\" class=\"data row17 col0\" >Experiment Name</td>\n",
       "      <td id=\"T_6df6f_row17_col1\" class=\"data row17 col1\" >clf-default-name</td>\n",
       "    </tr>\n",
       "    <tr>\n",
       "      <th id=\"T_6df6f_level0_row18\" class=\"row_heading level0 row18\" >18</th>\n",
       "      <td id=\"T_6df6f_row18_col0\" class=\"data row18 col0\" >USI</td>\n",
       "      <td id=\"T_6df6f_row18_col1\" class=\"data row18 col1\" >c2bc</td>\n",
       "    </tr>\n",
       "  </tbody>\n",
       "</table>\n"
      ],
      "text/plain": [
       "<pandas.io.formats.style.Styler at 0x1777171c0>"
      ]
     },
     "metadata": {},
     "output_type": "display_data"
    },
    {
     "data": {
      "text/plain": [
       "<pycaret.classification.oop.ClassificationExperiment at 0x175f8d040>"
      ]
     },
     "execution_count": 39,
     "metadata": {},
     "output_type": "execute_result"
    }
   ],
   "source": [
    "s = ClassificationExperiment()\n",
    "s.setup(df_shuffled, target=\"target\", session_id=123)"
   ]
  },
  {
   "cell_type": "code",
   "execution_count": 40,
   "id": "2c5d4cd1",
   "metadata": {},
   "outputs": [
    {
     "data": {
      "text/html": [
       "<div>\n",
       "<style scoped>\n",
       "    .dataframe tbody tr th:only-of-type {\n",
       "        vertical-align: middle;\n",
       "    }\n",
       "\n",
       "    .dataframe tbody tr th {\n",
       "        vertical-align: top;\n",
       "    }\n",
       "\n",
       "    .dataframe thead th {\n",
       "        text-align: right;\n",
       "    }\n",
       "</style>\n",
       "<table border=\"1\" class=\"dataframe\">\n",
       "  <thead>\n",
       "    <tr style=\"text-align: right;\">\n",
       "      <th></th>\n",
       "      <th></th>\n",
       "      <th></th>\n",
       "    </tr>\n",
       "    <tr>\n",
       "      <th></th>\n",
       "      <th></th>\n",
       "      <th></th>\n",
       "    </tr>\n",
       "  </thead>\n",
       "  <tbody>\n",
       "    <tr>\n",
       "      <th>Initiated</th>\n",
       "      <td>. . . . . . . . . . . . . . . . . .</td>\n",
       "      <td>15:44:11</td>\n",
       "    </tr>\n",
       "    <tr>\n",
       "      <th>Status</th>\n",
       "      <td>. . . . . . . . . . . . . . . . . .</td>\n",
       "      <td>Fitting 10 Folds</td>\n",
       "    </tr>\n",
       "    <tr>\n",
       "      <th>Estimator</th>\n",
       "      <td>. . . . . . . . . . . . . . . . . .</td>\n",
       "      <td>Logistic Regression</td>\n",
       "    </tr>\n",
       "  </tbody>\n",
       "</table>\n",
       "</div>"
      ],
      "text/plain": [
       "                                                                   \n",
       "                                                                   \n",
       "Initiated  . . . . . . . . . . . . . . . . . .             15:44:11\n",
       "Status     . . . . . . . . . . . . . . . . . .     Fitting 10 Folds\n",
       "Estimator  . . . . . . . . . . . . . . . . . .  Logistic Regression"
      ]
     },
     "metadata": {},
     "output_type": "display_data"
    },
    {
     "data": {
      "text/html": [
       "<div>\n",
       "<style scoped>\n",
       "    .dataframe tbody tr th:only-of-type {\n",
       "        vertical-align: middle;\n",
       "    }\n",
       "\n",
       "    .dataframe tbody tr th {\n",
       "        vertical-align: top;\n",
       "    }\n",
       "\n",
       "    .dataframe thead th {\n",
       "        text-align: right;\n",
       "    }\n",
       "</style>\n",
       "<table border=\"1\" class=\"dataframe\">\n",
       "  <thead>\n",
       "    <tr style=\"text-align: right;\">\n",
       "      <th></th>\n",
       "      <th>Model</th>\n",
       "      <th>Accuracy</th>\n",
       "      <th>AUC</th>\n",
       "      <th>Recall</th>\n",
       "      <th>Prec.</th>\n",
       "      <th>F1</th>\n",
       "      <th>Kappa</th>\n",
       "      <th>MCC</th>\n",
       "      <th>TT (Sec)</th>\n",
       "    </tr>\n",
       "  </thead>\n",
       "  <tbody>\n",
       "  </tbody>\n",
       "</table>\n",
       "</div>"
      ],
      "text/plain": [
       "Empty DataFrame\n",
       "Columns: [Model, Accuracy, AUC, Recall, Prec., F1, Kappa, MCC, TT (Sec)]\n",
       "Index: []"
      ]
     },
     "metadata": {},
     "output_type": "display_data"
    },
    {
     "data": {
      "application/vnd.jupyter.widget-view+json": {
       "model_id": "401095fadd4c49fd950b8824f421c913",
       "version_major": 2,
       "version_minor": 0
      },
      "text/plain": [
       "Processing:   0%|          | 0/69 [00:00<?, ?it/s]"
      ]
     },
     "metadata": {},
     "output_type": "display_data"
    },
    {
     "ename": "KeyboardInterrupt",
     "evalue": "",
     "output_type": "error",
     "traceback": [
      "\u001b[0;31m---------------------------------------------------------------------------\u001b[0m",
      "\u001b[0;31mKeyboardInterrupt\u001b[0m                         Traceback (most recent call last)",
      "Cell \u001b[0;32mIn[40], line 1\u001b[0m\n\u001b[0;32m----> 1\u001b[0m best \u001b[38;5;241m=\u001b[39m \u001b[43ms\u001b[49m\u001b[38;5;241;43m.\u001b[39;49m\u001b[43mcompare_models\u001b[49m\u001b[43m(\u001b[49m\u001b[43m)\u001b[49m\n",
      "File \u001b[0;32m/opt/homebrew/Caskroom/miniconda/base/envs/automl/lib/python3.9/site-packages/pycaret/classification/oop.py:1180\u001b[0m, in \u001b[0;36mClassificationExperiment.compare_models\u001b[0;34m(self, include, exclude, fold, round, cross_validation, sort, n_select, budget_time, turbo, errors, fit_kwargs, groups, experiment_custom_tags, probability_threshold, engine, verbose, parallel)\u001b[0m\n\u001b[1;32m   1177\u001b[0m         \u001b[38;5;28mself\u001b[39m\u001b[38;5;241m.\u001b[39m_set_engine(estimator\u001b[38;5;241m=\u001b[39mestimator, engine\u001b[38;5;241m=\u001b[39meng, severity\u001b[38;5;241m=\u001b[39m\u001b[38;5;124m\"\u001b[39m\u001b[38;5;124merror\u001b[39m\u001b[38;5;124m\"\u001b[39m)\n\u001b[1;32m   1179\u001b[0m \u001b[38;5;28;01mtry\u001b[39;00m:\n\u001b[0;32m-> 1180\u001b[0m     return_values \u001b[38;5;241m=\u001b[39m \u001b[38;5;28;43msuper\u001b[39;49m\u001b[43m(\u001b[49m\u001b[43m)\u001b[49m\u001b[38;5;241;43m.\u001b[39;49m\u001b[43mcompare_models\u001b[49m\u001b[43m(\u001b[49m\n\u001b[1;32m   1181\u001b[0m \u001b[43m        \u001b[49m\u001b[43minclude\u001b[49m\u001b[38;5;241;43m=\u001b[39;49m\u001b[43minclude\u001b[49m\u001b[43m,\u001b[49m\n\u001b[1;32m   1182\u001b[0m \u001b[43m        \u001b[49m\u001b[43mexclude\u001b[49m\u001b[38;5;241;43m=\u001b[39;49m\u001b[43mexclude\u001b[49m\u001b[43m,\u001b[49m\n\u001b[1;32m   1183\u001b[0m \u001b[43m        \u001b[49m\u001b[43mfold\u001b[49m\u001b[38;5;241;43m=\u001b[39;49m\u001b[43mfold\u001b[49m\u001b[43m,\u001b[49m\n\u001b[1;32m   1184\u001b[0m \u001b[43m        \u001b[49m\u001b[38;5;28;43mround\u001b[39;49m\u001b[38;5;241;43m=\u001b[39;49m\u001b[38;5;28;43mround\u001b[39;49m\u001b[43m,\u001b[49m\n\u001b[1;32m   1185\u001b[0m \u001b[43m        \u001b[49m\u001b[43mcross_validation\u001b[49m\u001b[38;5;241;43m=\u001b[39;49m\u001b[43mcross_validation\u001b[49m\u001b[43m,\u001b[49m\n\u001b[1;32m   1186\u001b[0m \u001b[43m        \u001b[49m\u001b[43msort\u001b[49m\u001b[38;5;241;43m=\u001b[39;49m\u001b[43msort\u001b[49m\u001b[43m,\u001b[49m\n\u001b[1;32m   1187\u001b[0m \u001b[43m        \u001b[49m\u001b[43mn_select\u001b[49m\u001b[38;5;241;43m=\u001b[39;49m\u001b[43mn_select\u001b[49m\u001b[43m,\u001b[49m\n\u001b[1;32m   1188\u001b[0m \u001b[43m        \u001b[49m\u001b[43mbudget_time\u001b[49m\u001b[38;5;241;43m=\u001b[39;49m\u001b[43mbudget_time\u001b[49m\u001b[43m,\u001b[49m\n\u001b[1;32m   1189\u001b[0m \u001b[43m        \u001b[49m\u001b[43mturbo\u001b[49m\u001b[38;5;241;43m=\u001b[39;49m\u001b[43mturbo\u001b[49m\u001b[43m,\u001b[49m\n\u001b[1;32m   1190\u001b[0m \u001b[43m        \u001b[49m\u001b[43merrors\u001b[49m\u001b[38;5;241;43m=\u001b[39;49m\u001b[43merrors\u001b[49m\u001b[43m,\u001b[49m\n\u001b[1;32m   1191\u001b[0m \u001b[43m        \u001b[49m\u001b[43mfit_kwargs\u001b[49m\u001b[38;5;241;43m=\u001b[39;49m\u001b[43mfit_kwargs\u001b[49m\u001b[43m,\u001b[49m\n\u001b[1;32m   1192\u001b[0m \u001b[43m        \u001b[49m\u001b[43mgroups\u001b[49m\u001b[38;5;241;43m=\u001b[39;49m\u001b[43mgroups\u001b[49m\u001b[43m,\u001b[49m\n\u001b[1;32m   1193\u001b[0m \u001b[43m        \u001b[49m\u001b[43mexperiment_custom_tags\u001b[49m\u001b[38;5;241;43m=\u001b[39;49m\u001b[43mexperiment_custom_tags\u001b[49m\u001b[43m,\u001b[49m\n\u001b[1;32m   1194\u001b[0m \u001b[43m        \u001b[49m\u001b[43mverbose\u001b[49m\u001b[38;5;241;43m=\u001b[39;49m\u001b[43mverbose\u001b[49m\u001b[43m,\u001b[49m\n\u001b[1;32m   1195\u001b[0m \u001b[43m        \u001b[49m\u001b[43mprobability_threshold\u001b[49m\u001b[38;5;241;43m=\u001b[39;49m\u001b[43mprobability_threshold\u001b[49m\u001b[43m,\u001b[49m\n\u001b[1;32m   1196\u001b[0m \u001b[43m        \u001b[49m\u001b[43mparallel\u001b[49m\u001b[38;5;241;43m=\u001b[39;49m\u001b[43mparallel\u001b[49m\u001b[43m,\u001b[49m\n\u001b[1;32m   1197\u001b[0m \u001b[43m        \u001b[49m\u001b[43mcaller_params\u001b[49m\u001b[38;5;241;43m=\u001b[39;49m\u001b[43mcaller_params\u001b[49m\u001b[43m,\u001b[49m\n\u001b[1;32m   1198\u001b[0m \u001b[43m    \u001b[49m\u001b[43m)\u001b[49m\n\u001b[1;32m   1199\u001b[0m \u001b[38;5;28;01mfinally\u001b[39;00m:\n\u001b[1;32m   1200\u001b[0m     \u001b[38;5;28;01mif\u001b[39;00m engine \u001b[38;5;129;01mis\u001b[39;00m \u001b[38;5;129;01mnot\u001b[39;00m \u001b[38;5;28;01mNone\u001b[39;00m:\n\u001b[1;32m   1201\u001b[0m         \u001b[38;5;66;03m# Reset the models back to the default engines\u001b[39;00m\n",
      "File \u001b[0;32m/opt/homebrew/Caskroom/miniconda/base/envs/automl/lib/python3.9/site-packages/pycaret/internal/pycaret_experiment/supervised_experiment.py:794\u001b[0m, in \u001b[0;36m_SupervisedExperiment.compare_models\u001b[0;34m(self, include, exclude, fold, round, cross_validation, sort, n_select, budget_time, turbo, errors, fit_kwargs, groups, experiment_custom_tags, probability_threshold, verbose, parallel, caller_params)\u001b[0m\n\u001b[1;32m    791\u001b[0m results_columns_to_ignore \u001b[38;5;241m=\u001b[39m [\u001b[38;5;124m\"\u001b[39m\u001b[38;5;124mObject\u001b[39m\u001b[38;5;124m\"\u001b[39m, \u001b[38;5;124m\"\u001b[39m\u001b[38;5;124mruntime\u001b[39m\u001b[38;5;124m\"\u001b[39m, \u001b[38;5;124m\"\u001b[39m\u001b[38;5;124mcutoff\u001b[39m\u001b[38;5;124m\"\u001b[39m]\n\u001b[1;32m    793\u001b[0m \u001b[38;5;28;01mtry\u001b[39;00m:\n\u001b[0;32m--> 794\u001b[0m     model, model_fit_time \u001b[38;5;241m=\u001b[39m \u001b[38;5;28;43mself\u001b[39;49m\u001b[38;5;241;43m.\u001b[39;49m\u001b[43m_create_model\u001b[49m\u001b[43m(\u001b[49m\u001b[38;5;241;43m*\u001b[39;49m\u001b[38;5;241;43m*\u001b[39;49m\u001b[43mcreate_model_args\u001b[49m\u001b[43m)\u001b[49m\n\u001b[1;32m    795\u001b[0m     model_results \u001b[38;5;241m=\u001b[39m \u001b[38;5;28mself\u001b[39m\u001b[38;5;241m.\u001b[39mpull(pop\u001b[38;5;241m=\u001b[39m\u001b[38;5;28;01mTrue\u001b[39;00m)\n\u001b[1;32m    796\u001b[0m     \u001b[38;5;28;01massert\u001b[39;00m (\n\u001b[1;32m    797\u001b[0m         np\u001b[38;5;241m.\u001b[39msum(\n\u001b[1;32m    798\u001b[0m             model_results\u001b[38;5;241m.\u001b[39mdrop(\n\u001b[0;32m   (...)\u001b[0m\n\u001b[1;32m    802\u001b[0m         \u001b[38;5;241m!=\u001b[39m \u001b[38;5;241m0.0\u001b[39m\n\u001b[1;32m    803\u001b[0m     )\n",
      "File \u001b[0;32m/opt/homebrew/Caskroom/miniconda/base/envs/automl/lib/python3.9/site-packages/pycaret/internal/pycaret_experiment/supervised_experiment.py:1533\u001b[0m, in \u001b[0;36m_SupervisedExperiment._create_model\u001b[0;34m(self, estimator, fold, round, cross_validation, predict, fit_kwargs, groups, refit, probability_threshold, experiment_custom_tags, verbose, system, add_to_model_list, X_train_data, y_train_data, metrics, display, model_only, return_train_score, error_score, **kwargs)\u001b[0m\n\u001b[1;32m   1530\u001b[0m         \u001b[38;5;28;01mreturn\u001b[39;00m model, model_fit_time\n\u001b[1;32m   1531\u001b[0m     \u001b[38;5;28;01mreturn\u001b[39;00m model\n\u001b[0;32m-> 1533\u001b[0m model, model_fit_time, model_results, _ \u001b[38;5;241m=\u001b[39m \u001b[38;5;28;43mself\u001b[39;49m\u001b[38;5;241;43m.\u001b[39;49m\u001b[43m_create_model_with_cv\u001b[49m\u001b[43m(\u001b[49m\n\u001b[1;32m   1534\u001b[0m \u001b[43m    \u001b[49m\u001b[43mmodel\u001b[49m\u001b[38;5;241;43m=\u001b[39;49m\u001b[43mmodel\u001b[49m\u001b[43m,\u001b[49m\n\u001b[1;32m   1535\u001b[0m \u001b[43m    \u001b[49m\u001b[43mdata_X\u001b[49m\u001b[38;5;241;43m=\u001b[39;49m\u001b[43mdata_X\u001b[49m\u001b[43m,\u001b[49m\n\u001b[1;32m   1536\u001b[0m \u001b[43m    \u001b[49m\u001b[43mdata_y\u001b[49m\u001b[38;5;241;43m=\u001b[39;49m\u001b[43mdata_y\u001b[49m\u001b[43m,\u001b[49m\n\u001b[1;32m   1537\u001b[0m \u001b[43m    \u001b[49m\u001b[43mfit_kwargs\u001b[49m\u001b[38;5;241;43m=\u001b[39;49m\u001b[43mfit_kwargs\u001b[49m\u001b[43m,\u001b[49m\n\u001b[1;32m   1538\u001b[0m \u001b[43m    \u001b[49m\u001b[38;5;28;43mround\u001b[39;49m\u001b[38;5;241;43m=\u001b[39;49m\u001b[38;5;28;43mround\u001b[39;49m\u001b[43m,\u001b[49m\n\u001b[1;32m   1539\u001b[0m \u001b[43m    \u001b[49m\u001b[43mcv\u001b[49m\u001b[38;5;241;43m=\u001b[39;49m\u001b[43mcv\u001b[49m\u001b[43m,\u001b[49m\n\u001b[1;32m   1540\u001b[0m \u001b[43m    \u001b[49m\u001b[43mgroups\u001b[49m\u001b[38;5;241;43m=\u001b[39;49m\u001b[43mgroups\u001b[49m\u001b[43m,\u001b[49m\n\u001b[1;32m   1541\u001b[0m \u001b[43m    \u001b[49m\u001b[43mmetrics\u001b[49m\u001b[38;5;241;43m=\u001b[39;49m\u001b[43mmetrics\u001b[49m\u001b[43m,\u001b[49m\n\u001b[1;32m   1542\u001b[0m \u001b[43m    \u001b[49m\u001b[43mrefit\u001b[49m\u001b[38;5;241;43m=\u001b[39;49m\u001b[43mrefit\u001b[49m\u001b[43m,\u001b[49m\n\u001b[1;32m   1543\u001b[0m \u001b[43m    \u001b[49m\u001b[43msystem\u001b[49m\u001b[38;5;241;43m=\u001b[39;49m\u001b[43msystem\u001b[49m\u001b[43m,\u001b[49m\n\u001b[1;32m   1544\u001b[0m \u001b[43m    \u001b[49m\u001b[43mdisplay\u001b[49m\u001b[38;5;241;43m=\u001b[39;49m\u001b[43mdisplay\u001b[49m\u001b[43m,\u001b[49m\n\u001b[1;32m   1545\u001b[0m \u001b[43m    \u001b[49m\u001b[43merror_score\u001b[49m\u001b[38;5;241;43m=\u001b[39;49m\u001b[43merror_score\u001b[49m\u001b[43m,\u001b[49m\n\u001b[1;32m   1546\u001b[0m \u001b[43m    \u001b[49m\u001b[43mreturn_train_score\u001b[49m\u001b[38;5;241;43m=\u001b[39;49m\u001b[43mreturn_train_score\u001b[49m\u001b[43m,\u001b[49m\n\u001b[1;32m   1547\u001b[0m \u001b[43m\u001b[49m\u001b[43m)\u001b[49m\n\u001b[1;32m   1549\u001b[0m \u001b[38;5;66;03m# end runtime\u001b[39;00m\n\u001b[1;32m   1550\u001b[0m runtime_end \u001b[38;5;241m=\u001b[39m time\u001b[38;5;241m.\u001b[39mtime()\n",
      "File \u001b[0;32m/opt/homebrew/Caskroom/miniconda/base/envs/automl/lib/python3.9/site-packages/pycaret/internal/pycaret_experiment/supervised_experiment.py:1126\u001b[0m, in \u001b[0;36m_SupervisedExperiment._create_model_with_cv\u001b[0;34m(self, model, data_X, data_y, fit_kwargs, round, cv, groups, metrics, refit, system, display, error_score, return_train_score)\u001b[0m\n\u001b[1;32m   1124\u001b[0m     model_fit_start \u001b[38;5;241m=\u001b[39m time\u001b[38;5;241m.\u001b[39mtime()\n\u001b[1;32m   1125\u001b[0m     \u001b[38;5;28;01mwith\u001b[39;00m redirect_output(\u001b[38;5;28mself\u001b[39m\u001b[38;5;241m.\u001b[39mlogger):\n\u001b[0;32m-> 1126\u001b[0m         scores \u001b[38;5;241m=\u001b[39m \u001b[43mcross_validate\u001b[49m\u001b[43m(\u001b[49m\n\u001b[1;32m   1127\u001b[0m \u001b[43m            \u001b[49m\u001b[43mpipeline_with_model\u001b[49m\u001b[43m,\u001b[49m\n\u001b[1;32m   1128\u001b[0m \u001b[43m            \u001b[49m\u001b[43mdata_X\u001b[49m\u001b[43m,\u001b[49m\n\u001b[1;32m   1129\u001b[0m \u001b[43m            \u001b[49m\u001b[43mdata_y\u001b[49m\u001b[43m,\u001b[49m\n\u001b[1;32m   1130\u001b[0m \u001b[43m            \u001b[49m\u001b[43mcv\u001b[49m\u001b[38;5;241;43m=\u001b[39;49m\u001b[43mcv\u001b[49m\u001b[43m,\u001b[49m\n\u001b[1;32m   1131\u001b[0m \u001b[43m            \u001b[49m\u001b[43mgroups\u001b[49m\u001b[38;5;241;43m=\u001b[39;49m\u001b[43mgroups\u001b[49m\u001b[43m,\u001b[49m\n\u001b[1;32m   1132\u001b[0m \u001b[43m            \u001b[49m\u001b[43mscoring\u001b[49m\u001b[38;5;241;43m=\u001b[39;49m\u001b[43mmetrics_dict\u001b[49m\u001b[43m,\u001b[49m\n\u001b[1;32m   1133\u001b[0m \u001b[43m            \u001b[49m\u001b[43mparams\u001b[49m\u001b[38;5;241;43m=\u001b[39;49m\u001b[43mfit_kwargs\u001b[49m\u001b[43m,\u001b[49m\n\u001b[1;32m   1134\u001b[0m \u001b[43m            \u001b[49m\u001b[43mn_jobs\u001b[49m\u001b[38;5;241;43m=\u001b[39;49m\u001b[43mn_jobs\u001b[49m\u001b[43m,\u001b[49m\n\u001b[1;32m   1135\u001b[0m \u001b[43m            \u001b[49m\u001b[43mreturn_train_score\u001b[49m\u001b[38;5;241;43m=\u001b[39;49m\u001b[43mreturn_train_score\u001b[49m\u001b[43m,\u001b[49m\n\u001b[1;32m   1136\u001b[0m \u001b[43m            \u001b[49m\u001b[43merror_score\u001b[49m\u001b[38;5;241;43m=\u001b[39;49m\u001b[43merror_score\u001b[49m\u001b[43m,\u001b[49m\n\u001b[1;32m   1137\u001b[0m \u001b[43m        \u001b[49m\u001b[43m)\u001b[49m\n\u001b[1;32m   1139\u001b[0m model_fit_end \u001b[38;5;241m=\u001b[39m time\u001b[38;5;241m.\u001b[39mtime()\n\u001b[1;32m   1140\u001b[0m model_fit_time \u001b[38;5;241m=\u001b[39m np\u001b[38;5;241m.\u001b[39marray(model_fit_end \u001b[38;5;241m-\u001b[39m model_fit_start)\u001b[38;5;241m.\u001b[39mround(\u001b[38;5;241m2\u001b[39m)\n",
      "File \u001b[0;32m/opt/homebrew/Caskroom/miniconda/base/envs/automl/lib/python3.9/site-packages/sklearn/utils/_param_validation.py:213\u001b[0m, in \u001b[0;36mvalidate_params.<locals>.decorator.<locals>.wrapper\u001b[0;34m(*args, **kwargs)\u001b[0m\n\u001b[1;32m    207\u001b[0m \u001b[38;5;28;01mtry\u001b[39;00m:\n\u001b[1;32m    208\u001b[0m     \u001b[38;5;28;01mwith\u001b[39;00m config_context(\n\u001b[1;32m    209\u001b[0m         skip_parameter_validation\u001b[38;5;241m=\u001b[39m(\n\u001b[1;32m    210\u001b[0m             prefer_skip_nested_validation \u001b[38;5;129;01mor\u001b[39;00m global_skip_validation\n\u001b[1;32m    211\u001b[0m         )\n\u001b[1;32m    212\u001b[0m     ):\n\u001b[0;32m--> 213\u001b[0m         \u001b[38;5;28;01mreturn\u001b[39;00m \u001b[43mfunc\u001b[49m\u001b[43m(\u001b[49m\u001b[38;5;241;43m*\u001b[39;49m\u001b[43margs\u001b[49m\u001b[43m,\u001b[49m\u001b[43m \u001b[49m\u001b[38;5;241;43m*\u001b[39;49m\u001b[38;5;241;43m*\u001b[39;49m\u001b[43mkwargs\u001b[49m\u001b[43m)\u001b[49m\n\u001b[1;32m    214\u001b[0m \u001b[38;5;28;01mexcept\u001b[39;00m InvalidParameterError \u001b[38;5;28;01mas\u001b[39;00m e:\n\u001b[1;32m    215\u001b[0m     \u001b[38;5;66;03m# When the function is just a wrapper around an estimator, we allow\u001b[39;00m\n\u001b[1;32m    216\u001b[0m     \u001b[38;5;66;03m# the function to delegate validation to the estimator, but we replace\u001b[39;00m\n\u001b[1;32m    217\u001b[0m     \u001b[38;5;66;03m# the name of the estimator by the name of the function in the error\u001b[39;00m\n\u001b[1;32m    218\u001b[0m     \u001b[38;5;66;03m# message to avoid confusion.\u001b[39;00m\n\u001b[1;32m    219\u001b[0m     msg \u001b[38;5;241m=\u001b[39m re\u001b[38;5;241m.\u001b[39msub(\n\u001b[1;32m    220\u001b[0m         \u001b[38;5;124mr\u001b[39m\u001b[38;5;124m\"\u001b[39m\u001b[38;5;124mparameter of \u001b[39m\u001b[38;5;124m\\\u001b[39m\u001b[38;5;124mw+ must be\u001b[39m\u001b[38;5;124m\"\u001b[39m,\n\u001b[1;32m    221\u001b[0m         \u001b[38;5;124mf\u001b[39m\u001b[38;5;124m\"\u001b[39m\u001b[38;5;124mparameter of \u001b[39m\u001b[38;5;132;01m{\u001b[39;00mfunc\u001b[38;5;241m.\u001b[39m\u001b[38;5;18m__qualname__\u001b[39m\u001b[38;5;132;01m}\u001b[39;00m\u001b[38;5;124m must be\u001b[39m\u001b[38;5;124m\"\u001b[39m,\n\u001b[1;32m    222\u001b[0m         \u001b[38;5;28mstr\u001b[39m(e),\n\u001b[1;32m    223\u001b[0m     )\n",
      "File \u001b[0;32m/opt/homebrew/Caskroom/miniconda/base/envs/automl/lib/python3.9/site-packages/sklearn/model_selection/_validation.py:430\u001b[0m, in \u001b[0;36mcross_validate\u001b[0;34m(estimator, X, y, groups, scoring, cv, n_jobs, verbose, fit_params, params, pre_dispatch, return_train_score, return_estimator, return_indices, error_score)\u001b[0m\n\u001b[1;32m    427\u001b[0m \u001b[38;5;66;03m# We clone the estimator to make sure that all the folds are\u001b[39;00m\n\u001b[1;32m    428\u001b[0m \u001b[38;5;66;03m# independent, and that it is pickle-able.\u001b[39;00m\n\u001b[1;32m    429\u001b[0m parallel \u001b[38;5;241m=\u001b[39m Parallel(n_jobs\u001b[38;5;241m=\u001b[39mn_jobs, verbose\u001b[38;5;241m=\u001b[39mverbose, pre_dispatch\u001b[38;5;241m=\u001b[39mpre_dispatch)\n\u001b[0;32m--> 430\u001b[0m results \u001b[38;5;241m=\u001b[39m \u001b[43mparallel\u001b[49m\u001b[43m(\u001b[49m\n\u001b[1;32m    431\u001b[0m \u001b[43m    \u001b[49m\u001b[43mdelayed\u001b[49m\u001b[43m(\u001b[49m\u001b[43m_fit_and_score\u001b[49m\u001b[43m)\u001b[49m\u001b[43m(\u001b[49m\n\u001b[1;32m    432\u001b[0m \u001b[43m        \u001b[49m\u001b[43mclone\u001b[49m\u001b[43m(\u001b[49m\u001b[43mestimator\u001b[49m\u001b[43m)\u001b[49m\u001b[43m,\u001b[49m\n\u001b[1;32m    433\u001b[0m \u001b[43m        \u001b[49m\u001b[43mX\u001b[49m\u001b[43m,\u001b[49m\n\u001b[1;32m    434\u001b[0m \u001b[43m        \u001b[49m\u001b[43my\u001b[49m\u001b[43m,\u001b[49m\n\u001b[1;32m    435\u001b[0m \u001b[43m        \u001b[49m\u001b[43mscorer\u001b[49m\u001b[38;5;241;43m=\u001b[39;49m\u001b[43mscorers\u001b[49m\u001b[43m,\u001b[49m\n\u001b[1;32m    436\u001b[0m \u001b[43m        \u001b[49m\u001b[43mtrain\u001b[49m\u001b[38;5;241;43m=\u001b[39;49m\u001b[43mtrain\u001b[49m\u001b[43m,\u001b[49m\n\u001b[1;32m    437\u001b[0m \u001b[43m        \u001b[49m\u001b[43mtest\u001b[49m\u001b[38;5;241;43m=\u001b[39;49m\u001b[43mtest\u001b[49m\u001b[43m,\u001b[49m\n\u001b[1;32m    438\u001b[0m \u001b[43m        \u001b[49m\u001b[43mverbose\u001b[49m\u001b[38;5;241;43m=\u001b[39;49m\u001b[43mverbose\u001b[49m\u001b[43m,\u001b[49m\n\u001b[1;32m    439\u001b[0m \u001b[43m        \u001b[49m\u001b[43mparameters\u001b[49m\u001b[38;5;241;43m=\u001b[39;49m\u001b[38;5;28;43;01mNone\u001b[39;49;00m\u001b[43m,\u001b[49m\n\u001b[1;32m    440\u001b[0m \u001b[43m        \u001b[49m\u001b[43mfit_params\u001b[49m\u001b[38;5;241;43m=\u001b[39;49m\u001b[43mrouted_params\u001b[49m\u001b[38;5;241;43m.\u001b[39;49m\u001b[43mestimator\u001b[49m\u001b[38;5;241;43m.\u001b[39;49m\u001b[43mfit\u001b[49m\u001b[43m,\u001b[49m\n\u001b[1;32m    441\u001b[0m \u001b[43m        \u001b[49m\u001b[43mscore_params\u001b[49m\u001b[38;5;241;43m=\u001b[39;49m\u001b[43mrouted_params\u001b[49m\u001b[38;5;241;43m.\u001b[39;49m\u001b[43mscorer\u001b[49m\u001b[38;5;241;43m.\u001b[39;49m\u001b[43mscore\u001b[49m\u001b[43m,\u001b[49m\n\u001b[1;32m    442\u001b[0m \u001b[43m        \u001b[49m\u001b[43mreturn_train_score\u001b[49m\u001b[38;5;241;43m=\u001b[39;49m\u001b[43mreturn_train_score\u001b[49m\u001b[43m,\u001b[49m\n\u001b[1;32m    443\u001b[0m \u001b[43m        \u001b[49m\u001b[43mreturn_times\u001b[49m\u001b[38;5;241;43m=\u001b[39;49m\u001b[38;5;28;43;01mTrue\u001b[39;49;00m\u001b[43m,\u001b[49m\n\u001b[1;32m    444\u001b[0m \u001b[43m        \u001b[49m\u001b[43mreturn_estimator\u001b[49m\u001b[38;5;241;43m=\u001b[39;49m\u001b[43mreturn_estimator\u001b[49m\u001b[43m,\u001b[49m\n\u001b[1;32m    445\u001b[0m \u001b[43m        \u001b[49m\u001b[43merror_score\u001b[49m\u001b[38;5;241;43m=\u001b[39;49m\u001b[43merror_score\u001b[49m\u001b[43m,\u001b[49m\n\u001b[1;32m    446\u001b[0m \u001b[43m    \u001b[49m\u001b[43m)\u001b[49m\n\u001b[1;32m    447\u001b[0m \u001b[43m    \u001b[49m\u001b[38;5;28;43;01mfor\u001b[39;49;00m\u001b[43m \u001b[49m\u001b[43mtrain\u001b[49m\u001b[43m,\u001b[49m\u001b[43m \u001b[49m\u001b[43mtest\u001b[49m\u001b[43m \u001b[49m\u001b[38;5;129;43;01min\u001b[39;49;00m\u001b[43m \u001b[49m\u001b[43mindices\u001b[49m\n\u001b[1;32m    448\u001b[0m \u001b[43m\u001b[49m\u001b[43m)\u001b[49m\n\u001b[1;32m    450\u001b[0m _warn_or_raise_about_fit_failures(results, error_score)\n\u001b[1;32m    452\u001b[0m \u001b[38;5;66;03m# For callable scoring, the return type is only know after calling. If the\u001b[39;00m\n\u001b[1;32m    453\u001b[0m \u001b[38;5;66;03m# return type is a dictionary, the error scores can now be inserted with\u001b[39;00m\n\u001b[1;32m    454\u001b[0m \u001b[38;5;66;03m# the correct key.\u001b[39;00m\n",
      "File \u001b[0;32m/opt/homebrew/Caskroom/miniconda/base/envs/automl/lib/python3.9/site-packages/sklearn/utils/parallel.py:67\u001b[0m, in \u001b[0;36mParallel.__call__\u001b[0;34m(self, iterable)\u001b[0m\n\u001b[1;32m     62\u001b[0m config \u001b[38;5;241m=\u001b[39m get_config()\n\u001b[1;32m     63\u001b[0m iterable_with_config \u001b[38;5;241m=\u001b[39m (\n\u001b[1;32m     64\u001b[0m     (_with_config(delayed_func, config), args, kwargs)\n\u001b[1;32m     65\u001b[0m     \u001b[38;5;28;01mfor\u001b[39;00m delayed_func, args, kwargs \u001b[38;5;129;01min\u001b[39;00m iterable\n\u001b[1;32m     66\u001b[0m )\n\u001b[0;32m---> 67\u001b[0m \u001b[38;5;28;01mreturn\u001b[39;00m \u001b[38;5;28;43msuper\u001b[39;49m\u001b[43m(\u001b[49m\u001b[43m)\u001b[49m\u001b[38;5;241;43m.\u001b[39;49m\u001b[38;5;21;43m__call__\u001b[39;49m\u001b[43m(\u001b[49m\u001b[43miterable_with_config\u001b[49m\u001b[43m)\u001b[49m\n",
      "File \u001b[0;32m/opt/homebrew/Caskroom/miniconda/base/envs/automl/lib/python3.9/site-packages/joblib/parallel.py:1952\u001b[0m, in \u001b[0;36mParallel.__call__\u001b[0;34m(self, iterable)\u001b[0m\n\u001b[1;32m   1946\u001b[0m \u001b[38;5;66;03m# The first item from the output is blank, but it makes the interpreter\u001b[39;00m\n\u001b[1;32m   1947\u001b[0m \u001b[38;5;66;03m# progress until it enters the Try/Except block of the generator and\u001b[39;00m\n\u001b[1;32m   1948\u001b[0m \u001b[38;5;66;03m# reach the first `yield` statement. This starts the aynchronous\u001b[39;00m\n\u001b[1;32m   1949\u001b[0m \u001b[38;5;66;03m# dispatch of the tasks to the workers.\u001b[39;00m\n\u001b[1;32m   1950\u001b[0m \u001b[38;5;28mnext\u001b[39m(output)\n\u001b[0;32m-> 1952\u001b[0m \u001b[38;5;28;01mreturn\u001b[39;00m output \u001b[38;5;28;01mif\u001b[39;00m \u001b[38;5;28mself\u001b[39m\u001b[38;5;241m.\u001b[39mreturn_generator \u001b[38;5;28;01melse\u001b[39;00m \u001b[38;5;28;43mlist\u001b[39;49m\u001b[43m(\u001b[49m\u001b[43moutput\u001b[49m\u001b[43m)\u001b[49m\n",
      "File \u001b[0;32m/opt/homebrew/Caskroom/miniconda/base/envs/automl/lib/python3.9/site-packages/joblib/parallel.py:1595\u001b[0m, in \u001b[0;36mParallel._get_outputs\u001b[0;34m(self, iterator, pre_dispatch)\u001b[0m\n\u001b[1;32m   1592\u001b[0m     \u001b[38;5;28;01myield\u001b[39;00m\n\u001b[1;32m   1594\u001b[0m     \u001b[38;5;28;01mwith\u001b[39;00m \u001b[38;5;28mself\u001b[39m\u001b[38;5;241m.\u001b[39m_backend\u001b[38;5;241m.\u001b[39mretrieval_context():\n\u001b[0;32m-> 1595\u001b[0m         \u001b[38;5;28;01myield from\u001b[39;00m \u001b[38;5;28mself\u001b[39m\u001b[38;5;241m.\u001b[39m_retrieve()\n\u001b[1;32m   1597\u001b[0m \u001b[38;5;28;01mexcept\u001b[39;00m \u001b[38;5;167;01mGeneratorExit\u001b[39;00m:\n\u001b[1;32m   1598\u001b[0m     \u001b[38;5;66;03m# The generator has been garbage collected before being fully\u001b[39;00m\n\u001b[1;32m   1599\u001b[0m     \u001b[38;5;66;03m# consumed. This aborts the remaining tasks if possible and warn\u001b[39;00m\n\u001b[1;32m   1600\u001b[0m     \u001b[38;5;66;03m# the user if necessary.\u001b[39;00m\n\u001b[1;32m   1601\u001b[0m     \u001b[38;5;28mself\u001b[39m\u001b[38;5;241m.\u001b[39m_exception \u001b[38;5;241m=\u001b[39m \u001b[38;5;28;01mTrue\u001b[39;00m\n",
      "File \u001b[0;32m/opt/homebrew/Caskroom/miniconda/base/envs/automl/lib/python3.9/site-packages/joblib/parallel.py:1707\u001b[0m, in \u001b[0;36mParallel._retrieve\u001b[0;34m(self)\u001b[0m\n\u001b[1;32m   1702\u001b[0m \u001b[38;5;66;03m# If the next job is not ready for retrieval yet, we just wait for\u001b[39;00m\n\u001b[1;32m   1703\u001b[0m \u001b[38;5;66;03m# async callbacks to progress.\u001b[39;00m\n\u001b[1;32m   1704\u001b[0m \u001b[38;5;28;01mif\u001b[39;00m ((\u001b[38;5;28mlen\u001b[39m(\u001b[38;5;28mself\u001b[39m\u001b[38;5;241m.\u001b[39m_jobs) \u001b[38;5;241m==\u001b[39m \u001b[38;5;241m0\u001b[39m) \u001b[38;5;129;01mor\u001b[39;00m\n\u001b[1;32m   1705\u001b[0m     (\u001b[38;5;28mself\u001b[39m\u001b[38;5;241m.\u001b[39m_jobs[\u001b[38;5;241m0\u001b[39m]\u001b[38;5;241m.\u001b[39mget_status(\n\u001b[1;32m   1706\u001b[0m         timeout\u001b[38;5;241m=\u001b[39m\u001b[38;5;28mself\u001b[39m\u001b[38;5;241m.\u001b[39mtimeout) \u001b[38;5;241m==\u001b[39m TASK_PENDING)):\n\u001b[0;32m-> 1707\u001b[0m     \u001b[43mtime\u001b[49m\u001b[38;5;241;43m.\u001b[39;49m\u001b[43msleep\u001b[49m\u001b[43m(\u001b[49m\u001b[38;5;241;43m0.01\u001b[39;49m\u001b[43m)\u001b[49m\n\u001b[1;32m   1708\u001b[0m     \u001b[38;5;28;01mcontinue\u001b[39;00m\n\u001b[1;32m   1710\u001b[0m \u001b[38;5;66;03m# We need to be careful: the job list can be filling up as\u001b[39;00m\n\u001b[1;32m   1711\u001b[0m \u001b[38;5;66;03m# we empty it and Python list are not thread-safe by\u001b[39;00m\n\u001b[1;32m   1712\u001b[0m \u001b[38;5;66;03m# default hence the use of the lock\u001b[39;00m\n",
      "\u001b[0;31mKeyboardInterrupt\u001b[0m: "
     ]
    }
   ],
   "source": [
    "best = s.compare_models()"
   ]
  },
  {
   "cell_type": "code",
   "execution_count": 31,
   "id": "27114f8b",
   "metadata": {},
   "outputs": [
    {
     "data": {
      "application/vnd.jupyter.widget-view+json": {
       "model_id": "0a1fc6cf44c14e74be2dd3a58ae2e4e1",
       "version_major": 2,
       "version_minor": 0
      },
      "text/plain": [
       "interactive(children=(ToggleButtons(description='Plot Type:', icons=('',), options=(('Pipeline Plot', 'pipelin…"
      ]
     },
     "metadata": {},
     "output_type": "display_data"
    }
   ],
   "source": [
    "s.evaluate_model(best)"
   ]
  },
  {
   "cell_type": "code",
   "execution_count": 32,
   "id": "5b9c3723",
   "metadata": {},
   "outputs": [
    {
     "data": {
      "text/html": [],
      "text/plain": [
       "<IPython.core.display.HTML object>"
      ]
     },
     "metadata": {},
     "output_type": "display_data"
    },
    {
     "data": {
      "image/svg+xml": [
       "<?xml version=\"1.0\" encoding=\"utf-8\" standalone=\"no\"?>\n",
       "<!DOCTYPE svg PUBLIC \"-//W3C//DTD SVG 1.1//EN\"\n",
       "  \"http://www.w3.org/Graphics/SVG/1.1/DTD/svg11.dtd\">\n",
       "<svg xmlns:xlink=\"http://www.w3.org/1999/xlink\" width=\"212.426875pt\" height=\"204.290625pt\" viewBox=\"0 0 212.426875 204.290625\" xmlns=\"http://www.w3.org/2000/svg\" version=\"1.1\">\n",
       " <metadata>\n",
       "  <rdf:RDF xmlns:dc=\"http://purl.org/dc/elements/1.1/\" xmlns:cc=\"http://creativecommons.org/ns#\" xmlns:rdf=\"http://www.w3.org/1999/02/22-rdf-syntax-ns#\">\n",
       "   <cc:Work>\n",
       "    <dc:type rdf:resource=\"http://purl.org/dc/dcmitype/StillImage\"/>\n",
       "    <dc:date>2024-10-30T00:11:35.902620</dc:date>\n",
       "    <dc:format>image/svg+xml</dc:format>\n",
       "    <dc:creator>\n",
       "     <cc:Agent>\n",
       "      <dc:title>Matplotlib v3.7.5, https://matplotlib.org/</dc:title>\n",
       "     </cc:Agent>\n",
       "    </dc:creator>\n",
       "   </cc:Work>\n",
       "  </rdf:RDF>\n",
       " </metadata>\n",
       " <defs>\n",
       "  <style type=\"text/css\">*{stroke-linejoin: round; stroke-linecap: butt}</style>\n",
       " </defs>\n",
       " <g id=\"figure_1\">\n",
       "  <g id=\"patch_1\">\n",
       "   <path d=\"M 0 204.290625 \n",
       "L 212.426875 204.290625 \n",
       "L 212.426875 0 \n",
       "L 0 0 \n",
       "z\n",
       "\" style=\"fill: #ffffff\"/>\n",
       "  </g>\n",
       "  <g id=\"axes_1\">\n",
       "   <g id=\"patch_2\">\n",
       "    <path d=\"M 36.60125 167.689375 \n",
       "L 197.14125 167.689375 \n",
       "L 197.14125 21.789375 \n",
       "L 36.60125 21.789375 \n",
       "z\n",
       "\" style=\"fill: #ffffff\"/>\n",
       "   </g>\n",
       "   <g id=\"matplotlib.axis_1\">\n",
       "    <g id=\"xtick_1\">\n",
       "     <g id=\"line2d_1\">\n",
       "      <path d=\"M 76.73625 167.689375 \n",
       "L 76.73625 21.789375 \n",
       "\" clip-path=\"url(#p18f717fc83)\" style=\"fill: none; stroke: #cccccc; stroke-linecap: round\"/>\n",
       "     </g>\n",
       "     <g id=\"line2d_2\"/>\n",
       "     <g id=\"text_1\">\n",
       "      <!-- 0 -->\n",
       "      <g style=\"fill: #262626\" transform=\"translate(80.613984 183.030781) rotate(-90) scale(0.15 -0.15)\">\n",
       "       <defs>\n",
       "        <path id=\"ArialMT-30\" d=\"M 266 2259 \n",
       "Q 266 3072 433 3567 \n",
       "Q 600 4063 929 4331 \n",
       "Q 1259 4600 1759 4600 \n",
       "Q 2128 4600 2406 4451 \n",
       "Q 2684 4303 2865 4023 \n",
       "Q 3047 3744 3150 3342 \n",
       "Q 3253 2941 3253 2259 \n",
       "Q 3253 1453 3087 958 \n",
       "Q 2922 463 2592 192 \n",
       "Q 2263 -78 1759 -78 \n",
       "Q 1097 -78 719 397 \n",
       "Q 266 969 266 2259 \n",
       "z\n",
       "M 844 2259 \n",
       "Q 844 1131 1108 757 \n",
       "Q 1372 384 1759 384 \n",
       "Q 2147 384 2411 759 \n",
       "Q 2675 1134 2675 2259 \n",
       "Q 2675 3391 2411 3762 \n",
       "Q 2147 4134 1753 4134 \n",
       "Q 1366 4134 1134 3806 \n",
       "Q 844 3388 844 2259 \n",
       "z\n",
       "\" transform=\"scale(0.015625)\"/>\n",
       "       </defs>\n",
       "       <use xlink:href=\"#ArialMT-30\"/>\n",
       "      </g>\n",
       "     </g>\n",
       "    </g>\n",
       "    <g id=\"xtick_2\">\n",
       "     <g id=\"line2d_3\">\n",
       "      <path d=\"M 157.00625 167.689375 \n",
       "L 157.00625 21.789375 \n",
       "\" clip-path=\"url(#p18f717fc83)\" style=\"fill: none; stroke: #cccccc; stroke-linecap: round\"/>\n",
       "     </g>\n",
       "     <g id=\"line2d_4\"/>\n",
       "     <g id=\"text_2\">\n",
       "      <!-- 1 -->\n",
       "      <g style=\"fill: #262626\" transform=\"translate(160.883984 183.030781) rotate(-90) scale(0.15 -0.15)\">\n",
       "       <defs>\n",
       "        <path id=\"ArialMT-31\" d=\"M 2384 0 \n",
       "L 1822 0 \n",
       "L 1822 3584 \n",
       "Q 1619 3391 1289 3197 \n",
       "Q 959 3003 697 2906 \n",
       "L 697 3450 \n",
       "Q 1169 3672 1522 3987 \n",
       "Q 1875 4303 2022 4600 \n",
       "L 2384 4600 \n",
       "L 2384 0 \n",
       "z\n",
       "\" transform=\"scale(0.015625)\"/>\n",
       "       </defs>\n",
       "       <use xlink:href=\"#ArialMT-31\"/>\n",
       "      </g>\n",
       "     </g>\n",
       "    </g>\n",
       "    <g id=\"text_3\">\n",
       "     <!-- Predicted Class -->\n",
       "     <g style=\"fill: #262626\" transform=\"translate(78.356641 194.904375) scale(0.11 -0.11)\">\n",
       "      <defs>\n",
       "       <path id=\"ArialMT-50\" d=\"M 494 0 \n",
       "L 494 4581 \n",
       "L 2222 4581 \n",
       "Q 2678 4581 2919 4538 \n",
       "Q 3256 4481 3484 4323 \n",
       "Q 3713 4166 3852 3881 \n",
       "Q 3991 3597 3991 3256 \n",
       "Q 3991 2672 3619 2267 \n",
       "Q 3247 1863 2275 1863 \n",
       "L 1100 1863 \n",
       "L 1100 0 \n",
       "L 494 0 \n",
       "z\n",
       "M 1100 2403 \n",
       "L 2284 2403 \n",
       "Q 2872 2403 3119 2622 \n",
       "Q 3366 2841 3366 3238 \n",
       "Q 3366 3525 3220 3729 \n",
       "Q 3075 3934 2838 4000 \n",
       "Q 2684 4041 2272 4041 \n",
       "L 1100 4041 \n",
       "L 1100 2403 \n",
       "z\n",
       "\" transform=\"scale(0.015625)\"/>\n",
       "       <path id=\"ArialMT-72\" d=\"M 416 0 \n",
       "L 416 3319 \n",
       "L 922 3319 \n",
       "L 922 2816 \n",
       "Q 1116 3169 1280 3281 \n",
       "Q 1444 3394 1641 3394 \n",
       "Q 1925 3394 2219 3213 \n",
       "L 2025 2691 \n",
       "Q 1819 2813 1613 2813 \n",
       "Q 1428 2813 1281 2702 \n",
       "Q 1134 2591 1072 2394 \n",
       "Q 978 2094 978 1738 \n",
       "L 978 0 \n",
       "L 416 0 \n",
       "z\n",
       "\" transform=\"scale(0.015625)\"/>\n",
       "       <path id=\"ArialMT-65\" d=\"M 2694 1069 \n",
       "L 3275 997 \n",
       "Q 3138 488 2766 206 \n",
       "Q 2394 -75 1816 -75 \n",
       "Q 1088 -75 661 373 \n",
       "Q 234 822 234 1631 \n",
       "Q 234 2469 665 2931 \n",
       "Q 1097 3394 1784 3394 \n",
       "Q 2450 3394 2872 2941 \n",
       "Q 3294 2488 3294 1666 \n",
       "Q 3294 1616 3291 1516 \n",
       "L 816 1516 \n",
       "Q 847 969 1125 678 \n",
       "Q 1403 388 1819 388 \n",
       "Q 2128 388 2347 550 \n",
       "Q 2566 713 2694 1069 \n",
       "z\n",
       "M 847 1978 \n",
       "L 2700 1978 \n",
       "Q 2663 2397 2488 2606 \n",
       "Q 2219 2931 1791 2931 \n",
       "Q 1403 2931 1139 2672 \n",
       "Q 875 2413 847 1978 \n",
       "z\n",
       "\" transform=\"scale(0.015625)\"/>\n",
       "       <path id=\"ArialMT-64\" d=\"M 2575 0 \n",
       "L 2575 419 \n",
       "Q 2259 -75 1647 -75 \n",
       "Q 1250 -75 917 144 \n",
       "Q 584 363 401 755 \n",
       "Q 219 1147 219 1656 \n",
       "Q 219 2153 384 2558 \n",
       "Q 550 2963 881 3178 \n",
       "Q 1213 3394 1622 3394 \n",
       "Q 1922 3394 2156 3267 \n",
       "Q 2391 3141 2538 2938 \n",
       "L 2538 4581 \n",
       "L 3097 4581 \n",
       "L 3097 0 \n",
       "L 2575 0 \n",
       "z\n",
       "M 797 1656 \n",
       "Q 797 1019 1065 703 \n",
       "Q 1334 388 1700 388 \n",
       "Q 2069 388 2326 689 \n",
       "Q 2584 991 2584 1609 \n",
       "Q 2584 2291 2321 2609 \n",
       "Q 2059 2928 1675 2928 \n",
       "Q 1300 2928 1048 2622 \n",
       "Q 797 2316 797 1656 \n",
       "z\n",
       "\" transform=\"scale(0.015625)\"/>\n",
       "       <path id=\"ArialMT-69\" d=\"M 425 3934 \n",
       "L 425 4581 \n",
       "L 988 4581 \n",
       "L 988 3934 \n",
       "L 425 3934 \n",
       "z\n",
       "M 425 0 \n",
       "L 425 3319 \n",
       "L 988 3319 \n",
       "L 988 0 \n",
       "L 425 0 \n",
       "z\n",
       "\" transform=\"scale(0.015625)\"/>\n",
       "       <path id=\"ArialMT-63\" d=\"M 2588 1216 \n",
       "L 3141 1144 \n",
       "Q 3050 572 2676 248 \n",
       "Q 2303 -75 1759 -75 \n",
       "Q 1078 -75 664 370 \n",
       "Q 250 816 250 1647 \n",
       "Q 250 2184 428 2587 \n",
       "Q 606 2991 970 3192 \n",
       "Q 1334 3394 1763 3394 \n",
       "Q 2303 3394 2647 3120 \n",
       "Q 2991 2847 3088 2344 \n",
       "L 2541 2259 \n",
       "Q 2463 2594 2264 2762 \n",
       "Q 2066 2931 1784 2931 \n",
       "Q 1359 2931 1093 2626 \n",
       "Q 828 2322 828 1663 \n",
       "Q 828 994 1084 691 \n",
       "Q 1341 388 1753 388 \n",
       "Q 2084 388 2306 591 \n",
       "Q 2528 794 2588 1216 \n",
       "z\n",
       "\" transform=\"scale(0.015625)\"/>\n",
       "       <path id=\"ArialMT-74\" d=\"M 1650 503 \n",
       "L 1731 6 \n",
       "Q 1494 -44 1306 -44 \n",
       "Q 1000 -44 831 53 \n",
       "Q 663 150 594 308 \n",
       "Q 525 466 525 972 \n",
       "L 525 2881 \n",
       "L 113 2881 \n",
       "L 113 3319 \n",
       "L 525 3319 \n",
       "L 525 4141 \n",
       "L 1084 4478 \n",
       "L 1084 3319 \n",
       "L 1650 3319 \n",
       "L 1650 2881 \n",
       "L 1084 2881 \n",
       "L 1084 941 \n",
       "Q 1084 700 1114 631 \n",
       "Q 1144 563 1211 522 \n",
       "Q 1278 481 1403 481 \n",
       "Q 1497 481 1650 503 \n",
       "z\n",
       "\" transform=\"scale(0.015625)\"/>\n",
       "       <path id=\"ArialMT-20\" transform=\"scale(0.015625)\"/>\n",
       "       <path id=\"ArialMT-43\" d=\"M 3763 1606 \n",
       "L 4369 1453 \n",
       "Q 4178 706 3683 314 \n",
       "Q 3188 -78 2472 -78 \n",
       "Q 1731 -78 1267 223 \n",
       "Q 803 525 561 1097 \n",
       "Q 319 1669 319 2325 \n",
       "Q 319 3041 592 3573 \n",
       "Q 866 4106 1370 4382 \n",
       "Q 1875 4659 2481 4659 \n",
       "Q 3169 4659 3637 4309 \n",
       "Q 4106 3959 4291 3325 \n",
       "L 3694 3184 \n",
       "Q 3534 3684 3231 3912 \n",
       "Q 2928 4141 2469 4141 \n",
       "Q 1941 4141 1586 3887 \n",
       "Q 1231 3634 1087 3207 \n",
       "Q 944 2781 944 2328 \n",
       "Q 944 1744 1114 1308 \n",
       "Q 1284 872 1643 656 \n",
       "Q 2003 441 2422 441 \n",
       "Q 2931 441 3284 734 \n",
       "Q 3638 1028 3763 1606 \n",
       "z\n",
       "\" transform=\"scale(0.015625)\"/>\n",
       "       <path id=\"ArialMT-6c\" d=\"M 409 0 \n",
       "L 409 4581 \n",
       "L 972 4581 \n",
       "L 972 0 \n",
       "L 409 0 \n",
       "z\n",
       "\" transform=\"scale(0.015625)\"/>\n",
       "       <path id=\"ArialMT-61\" d=\"M 2588 409 \n",
       "Q 2275 144 1986 34 \n",
       "Q 1697 -75 1366 -75 \n",
       "Q 819 -75 525 192 \n",
       "Q 231 459 231 875 \n",
       "Q 231 1119 342 1320 \n",
       "Q 453 1522 633 1644 \n",
       "Q 813 1766 1038 1828 \n",
       "Q 1203 1872 1538 1913 \n",
       "Q 2219 1994 2541 2106 \n",
       "Q 2544 2222 2544 2253 \n",
       "Q 2544 2597 2384 2738 \n",
       "Q 2169 2928 1744 2928 \n",
       "Q 1347 2928 1158 2789 \n",
       "Q 969 2650 878 2297 \n",
       "L 328 2372 \n",
       "Q 403 2725 575 2942 \n",
       "Q 747 3159 1072 3276 \n",
       "Q 1397 3394 1825 3394 \n",
       "Q 2250 3394 2515 3294 \n",
       "Q 2781 3194 2906 3042 \n",
       "Q 3031 2891 3081 2659 \n",
       "Q 3109 2516 3109 2141 \n",
       "L 3109 1391 \n",
       "Q 3109 606 3145 398 \n",
       "Q 3181 191 3288 0 \n",
       "L 2700 0 \n",
       "Q 2613 175 2588 409 \n",
       "z\n",
       "M 2541 1666 \n",
       "Q 2234 1541 1622 1453 \n",
       "Q 1275 1403 1131 1340 \n",
       "Q 988 1278 909 1158 \n",
       "Q 831 1038 831 891 \n",
       "Q 831 666 1001 516 \n",
       "Q 1172 366 1500 366 \n",
       "Q 1825 366 2078 508 \n",
       "Q 2331 650 2450 897 \n",
       "Q 2541 1088 2541 1459 \n",
       "L 2541 1666 \n",
       "z\n",
       "\" transform=\"scale(0.015625)\"/>\n",
       "       <path id=\"ArialMT-73\" d=\"M 197 991 \n",
       "L 753 1078 \n",
       "Q 800 744 1014 566 \n",
       "Q 1228 388 1613 388 \n",
       "Q 2000 388 2187 545 \n",
       "Q 2375 703 2375 916 \n",
       "Q 2375 1106 2209 1216 \n",
       "Q 2094 1291 1634 1406 \n",
       "Q 1016 1563 777 1677 \n",
       "Q 538 1791 414 1992 \n",
       "Q 291 2194 291 2438 \n",
       "Q 291 2659 392 2848 \n",
       "Q 494 3038 669 3163 \n",
       "Q 800 3259 1026 3326 \n",
       "Q 1253 3394 1513 3394 \n",
       "Q 1903 3394 2198 3281 \n",
       "Q 2494 3169 2634 2976 \n",
       "Q 2775 2784 2828 2463 \n",
       "L 2278 2388 \n",
       "Q 2241 2644 2061 2787 \n",
       "Q 1881 2931 1553 2931 \n",
       "Q 1166 2931 1000 2803 \n",
       "Q 834 2675 834 2503 \n",
       "Q 834 2394 903 2306 \n",
       "Q 972 2216 1119 2156 \n",
       "Q 1203 2125 1616 2013 \n",
       "Q 2213 1853 2448 1751 \n",
       "Q 2684 1650 2818 1456 \n",
       "Q 2953 1263 2953 975 \n",
       "Q 2953 694 2789 445 \n",
       "Q 2625 197 2315 61 \n",
       "Q 2006 -75 1616 -75 \n",
       "Q 969 -75 630 194 \n",
       "Q 291 463 197 991 \n",
       "z\n",
       "\" transform=\"scale(0.015625)\"/>\n",
       "      </defs>\n",
       "      <use xlink:href=\"#ArialMT-50\"/>\n",
       "      <use xlink:href=\"#ArialMT-72\" x=\"66.699219\"/>\n",
       "      <use xlink:href=\"#ArialMT-65\" x=\"100\"/>\n",
       "      <use xlink:href=\"#ArialMT-64\" x=\"155.615234\"/>\n",
       "      <use xlink:href=\"#ArialMT-69\" x=\"211.230469\"/>\n",
       "      <use xlink:href=\"#ArialMT-63\" x=\"233.447266\"/>\n",
       "      <use xlink:href=\"#ArialMT-74\" x=\"283.447266\"/>\n",
       "      <use xlink:href=\"#ArialMT-65\" x=\"311.230469\"/>\n",
       "      <use xlink:href=\"#ArialMT-64\" x=\"366.845703\"/>\n",
       "      <use xlink:href=\"#ArialMT-20\" x=\"422.460938\"/>\n",
       "      <use xlink:href=\"#ArialMT-43\" x=\"450.244141\"/>\n",
       "      <use xlink:href=\"#ArialMT-6c\" x=\"522.460938\"/>\n",
       "      <use xlink:href=\"#ArialMT-61\" x=\"544.677734\"/>\n",
       "      <use xlink:href=\"#ArialMT-73\" x=\"600.292969\"/>\n",
       "      <use xlink:href=\"#ArialMT-73\" x=\"650.292969\"/>\n",
       "     </g>\n",
       "    </g>\n",
       "   </g>\n",
       "   <g id=\"matplotlib.axis_2\">\n",
       "    <g id=\"ytick_1\">\n",
       "     <g id=\"line2d_5\">\n",
       "      <path d=\"M 36.60125 131.214375 \n",
       "L 197.14125 131.214375 \n",
       "\" clip-path=\"url(#p18f717fc83)\" style=\"fill: none; stroke: #cccccc; stroke-linecap: round\"/>\n",
       "     </g>\n",
       "     <g id=\"line2d_6\"/>\n",
       "     <g id=\"text_4\">\n",
       "      <!-- 1 -->\n",
       "      <g style=\"fill: #262626\" transform=\"translate(21.259844 136.582734) scale(0.15 -0.15)\">\n",
       "       <use xlink:href=\"#ArialMT-31\"/>\n",
       "      </g>\n",
       "     </g>\n",
       "    </g>\n",
       "    <g id=\"ytick_2\">\n",
       "     <g id=\"line2d_7\">\n",
       "      <path d=\"M 36.60125 58.264375 \n",
       "L 197.14125 58.264375 \n",
       "\" clip-path=\"url(#p18f717fc83)\" style=\"fill: none; stroke: #cccccc; stroke-linecap: round\"/>\n",
       "     </g>\n",
       "     <g id=\"line2d_8\"/>\n",
       "     <g id=\"text_5\">\n",
       "      <!-- 0 -->\n",
       "      <g style=\"fill: #262626\" transform=\"translate(21.259844 63.632734) scale(0.15 -0.15)\">\n",
       "       <use xlink:href=\"#ArialMT-30\"/>\n",
       "      </g>\n",
       "     </g>\n",
       "    </g>\n",
       "    <g id=\"text_6\">\n",
       "     <!-- True Class -->\n",
       "     <g style=\"fill: #262626\" transform=\"translate(15.073594 121.121328) rotate(-90) scale(0.11 -0.11)\">\n",
       "      <defs>\n",
       "       <path id=\"ArialMT-54\" d=\"M 1659 0 \n",
       "L 1659 4041 \n",
       "L 150 4041 \n",
       "L 150 4581 \n",
       "L 3781 4581 \n",
       "L 3781 4041 \n",
       "L 2266 4041 \n",
       "L 2266 0 \n",
       "L 1659 0 \n",
       "z\n",
       "\" transform=\"scale(0.015625)\"/>\n",
       "       <path id=\"ArialMT-75\" d=\"M 2597 0 \n",
       "L 2597 488 \n",
       "Q 2209 -75 1544 -75 \n",
       "Q 1250 -75 995 37 \n",
       "Q 741 150 617 320 \n",
       "Q 494 491 444 738 \n",
       "Q 409 903 409 1263 \n",
       "L 409 3319 \n",
       "L 972 3319 \n",
       "L 972 1478 \n",
       "Q 972 1038 1006 884 \n",
       "Q 1059 663 1231 536 \n",
       "Q 1403 409 1656 409 \n",
       "Q 1909 409 2131 539 \n",
       "Q 2353 669 2445 892 \n",
       "Q 2538 1116 2538 1541 \n",
       "L 2538 3319 \n",
       "L 3100 3319 \n",
       "L 3100 0 \n",
       "L 2597 0 \n",
       "z\n",
       "\" transform=\"scale(0.015625)\"/>\n",
       "      </defs>\n",
       "      <use xlink:href=\"#ArialMT-54\"/>\n",
       "      <use xlink:href=\"#ArialMT-72\" x=\"57.333984\"/>\n",
       "      <use xlink:href=\"#ArialMT-75\" x=\"90.634766\"/>\n",
       "      <use xlink:href=\"#ArialMT-65\" x=\"146.25\"/>\n",
       "      <use xlink:href=\"#ArialMT-20\" x=\"201.865234\"/>\n",
       "      <use xlink:href=\"#ArialMT-43\" x=\"229.648438\"/>\n",
       "      <use xlink:href=\"#ArialMT-6c\" x=\"301.865234\"/>\n",
       "      <use xlink:href=\"#ArialMT-61\" x=\"324.082031\"/>\n",
       "      <use xlink:href=\"#ArialMT-73\" x=\"379.697266\"/>\n",
       "      <use xlink:href=\"#ArialMT-73\" x=\"429.697266\"/>\n",
       "     </g>\n",
       "    </g>\n",
       "   </g>\n",
       "   <g id=\"QuadMesh_1\">\n",
       "    <path d=\"M 36.60125 167.689375 \n",
       "L 116.87125 167.689375 \n",
       "L 116.87125 94.739375 \n",
       "L 36.60125 94.739375 \n",
       "L 36.60125 167.689375 \n",
       "\" clip-path=\"url(#p18f717fc83)\" style=\"fill: #f7fcf5; stroke: #ffffff; stroke-width: 0.01\"/>\n",
       "    <path d=\"M 116.87125 167.689375 \n",
       "L 197.14125 167.689375 \n",
       "L 197.14125 94.739375 \n",
       "L 116.87125 94.739375 \n",
       "L 116.87125 167.689375 \n",
       "\" clip-path=\"url(#p18f717fc83)\" style=\"fill: #00441b; stroke: #111111; stroke-width: 0.01\"/>\n",
       "    <path d=\"M 36.60125 94.739375 \n",
       "L 116.87125 94.739375 \n",
       "L 116.87125 21.789375 \n",
       "L 36.60125 21.789375 \n",
       "L 36.60125 94.739375 \n",
       "\" clip-path=\"url(#p18f717fc83)\" style=\"fill: #41ab5d; stroke: #111111; stroke-width: 0.01\"/>\n",
       "    <path d=\"M 116.87125 94.739375 \n",
       "L 197.14125 94.739375 \n",
       "L 197.14125 21.789375 \n",
       "L 116.87125 21.789375 \n",
       "L 116.87125 94.739375 \n",
       "\" clip-path=\"url(#p18f717fc83)\" style=\"fill: #e5f5e0; stroke: #ffffff; stroke-width: 0.01\"/>\n",
       "   </g>\n",
       "   <g id=\"patch_3\">\n",
       "    <path d=\"M 36.60125 167.689375 \n",
       "L 36.60125 21.789375 \n",
       "\" style=\"fill: none; stroke: #cccccc; stroke-width: 1.25; stroke-linejoin: miter; stroke-linecap: square\"/>\n",
       "   </g>\n",
       "   <g id=\"patch_4\">\n",
       "    <path d=\"M 197.14125 167.689375 \n",
       "L 197.14125 21.789375 \n",
       "\" style=\"fill: none; stroke: #cccccc; stroke-width: 1.25; stroke-linejoin: miter; stroke-linecap: square\"/>\n",
       "   </g>\n",
       "   <g id=\"patch_5\">\n",
       "    <path d=\"M 36.60125 167.689375 \n",
       "L 197.14125 167.689375 \n",
       "\" style=\"fill: none; stroke: #cccccc; stroke-width: 1.25; stroke-linejoin: miter; stroke-linecap: square\"/>\n",
       "   </g>\n",
       "   <g id=\"patch_6\">\n",
       "    <path d=\"M 36.60125 21.789375 \n",
       "L 197.14125 21.789375 \n",
       "\" style=\"fill: none; stroke: #cccccc; stroke-width: 1.25; stroke-linejoin: miter; stroke-linecap: square\"/>\n",
       "   </g>\n",
       "   <g id=\"text_7\">\n",
       "    <!-- 4082 -->\n",
       "    <g transform=\"translate(60.053438 135.092109) scale(0.15 -0.15)\">\n",
       "     <defs>\n",
       "      <path id=\"ArialMT-34\" d=\"M 2069 0 \n",
       "L 2069 1097 \n",
       "L 81 1097 \n",
       "L 81 1613 \n",
       "L 2172 4581 \n",
       "L 2631 4581 \n",
       "L 2631 1613 \n",
       "L 3250 1613 \n",
       "L 3250 1097 \n",
       "L 2631 1097 \n",
       "L 2631 0 \n",
       "L 2069 0 \n",
       "z\n",
       "M 2069 1613 \n",
       "L 2069 3678 \n",
       "L 634 1613 \n",
       "L 2069 1613 \n",
       "z\n",
       "\" transform=\"scale(0.015625)\"/>\n",
       "      <path id=\"ArialMT-38\" d=\"M 1131 2484 \n",
       "Q 781 2613 612 2850 \n",
       "Q 444 3088 444 3419 \n",
       "Q 444 3919 803 4259 \n",
       "Q 1163 4600 1759 4600 \n",
       "Q 2359 4600 2725 4251 \n",
       "Q 3091 3903 3091 3403 \n",
       "Q 3091 3084 2923 2848 \n",
       "Q 2756 2613 2416 2484 \n",
       "Q 2838 2347 3058 2040 \n",
       "Q 3278 1734 3278 1309 \n",
       "Q 3278 722 2862 322 \n",
       "Q 2447 -78 1769 -78 \n",
       "Q 1091 -78 675 323 \n",
       "Q 259 725 259 1325 \n",
       "Q 259 1772 486 2073 \n",
       "Q 713 2375 1131 2484 \n",
       "z\n",
       "M 1019 3438 \n",
       "Q 1019 3113 1228 2906 \n",
       "Q 1438 2700 1772 2700 \n",
       "Q 2097 2700 2305 2904 \n",
       "Q 2513 3109 2513 3406 \n",
       "Q 2513 3716 2298 3927 \n",
       "Q 2084 4138 1766 4138 \n",
       "Q 1444 4138 1231 3931 \n",
       "Q 1019 3725 1019 3438 \n",
       "z\n",
       "M 838 1322 \n",
       "Q 838 1081 952 856 \n",
       "Q 1066 631 1291 507 \n",
       "Q 1516 384 1775 384 \n",
       "Q 2178 384 2440 643 \n",
       "Q 2703 903 2703 1303 \n",
       "Q 2703 1709 2433 1975 \n",
       "Q 2163 2241 1756 2241 \n",
       "Q 1359 2241 1098 1978 \n",
       "Q 838 1716 838 1322 \n",
       "z\n",
       "\" transform=\"scale(0.015625)\"/>\n",
       "      <path id=\"ArialMT-32\" d=\"M 3222 541 \n",
       "L 3222 0 \n",
       "L 194 0 \n",
       "Q 188 203 259 391 \n",
       "Q 375 700 629 1000 \n",
       "Q 884 1300 1366 1694 \n",
       "Q 2113 2306 2375 2664 \n",
       "Q 2638 3022 2638 3341 \n",
       "Q 2638 3675 2398 3904 \n",
       "Q 2159 4134 1775 4134 \n",
       "Q 1369 4134 1125 3890 \n",
       "Q 881 3647 878 3216 \n",
       "L 300 3275 \n",
       "Q 359 3922 746 4261 \n",
       "Q 1134 4600 1788 4600 \n",
       "Q 2447 4600 2831 4234 \n",
       "Q 3216 3869 3216 3328 \n",
       "Q 3216 3053 3103 2787 \n",
       "Q 2991 2522 2730 2228 \n",
       "Q 2469 1934 1863 1422 \n",
       "Q 1356 997 1212 845 \n",
       "Q 1069 694 975 541 \n",
       "L 3222 541 \n",
       "z\n",
       "\" transform=\"scale(0.015625)\"/>\n",
       "     </defs>\n",
       "     <use xlink:href=\"#ArialMT-34\"/>\n",
       "     <use xlink:href=\"#ArialMT-30\" x=\"55.615234\"/>\n",
       "     <use xlink:href=\"#ArialMT-38\" x=\"111.230469\"/>\n",
       "     <use xlink:href=\"#ArialMT-32\" x=\"166.845703\"/>\n",
       "    </g>\n",
       "   </g>\n",
       "   <g id=\"text_8\">\n",
       "    <!-- 42857 -->\n",
       "    <g style=\"fill: #ffffff\" transform=\"translate(136.152734 135.092109) scale(0.15 -0.15)\">\n",
       "     <defs>\n",
       "      <path id=\"ArialMT-35\" d=\"M 266 1200 \n",
       "L 856 1250 \n",
       "Q 922 819 1161 601 \n",
       "Q 1400 384 1738 384 \n",
       "Q 2144 384 2425 690 \n",
       "Q 2706 997 2706 1503 \n",
       "Q 2706 1984 2436 2262 \n",
       "Q 2166 2541 1728 2541 \n",
       "Q 1456 2541 1237 2417 \n",
       "Q 1019 2294 894 2097 \n",
       "L 366 2166 \n",
       "L 809 4519 \n",
       "L 3088 4519 \n",
       "L 3088 3981 \n",
       "L 1259 3981 \n",
       "L 1013 2750 \n",
       "Q 1425 3038 1878 3038 \n",
       "Q 2478 3038 2890 2622 \n",
       "Q 3303 2206 3303 1553 \n",
       "Q 3303 931 2941 478 \n",
       "Q 2500 -78 1738 -78 \n",
       "Q 1113 -78 717 272 \n",
       "Q 322 622 266 1200 \n",
       "z\n",
       "\" transform=\"scale(0.015625)\"/>\n",
       "      <path id=\"ArialMT-37\" d=\"M 303 3981 \n",
       "L 303 4522 \n",
       "L 3269 4522 \n",
       "L 3269 4084 \n",
       "Q 2831 3619 2401 2847 \n",
       "Q 1972 2075 1738 1259 \n",
       "Q 1569 684 1522 0 \n",
       "L 944 0 \n",
       "Q 953 541 1156 1306 \n",
       "Q 1359 2072 1739 2783 \n",
       "Q 2119 3494 2547 3981 \n",
       "L 303 3981 \n",
       "z\n",
       "\" transform=\"scale(0.015625)\"/>\n",
       "     </defs>\n",
       "     <use xlink:href=\"#ArialMT-34\"/>\n",
       "     <use xlink:href=\"#ArialMT-32\" x=\"55.615234\"/>\n",
       "     <use xlink:href=\"#ArialMT-38\" x=\"111.230469\"/>\n",
       "     <use xlink:href=\"#ArialMT-35\" x=\"166.845703\"/>\n",
       "     <use xlink:href=\"#ArialMT-37\" x=\"222.460938\"/>\n",
       "    </g>\n",
       "   </g>\n",
       "   <g id=\"text_9\">\n",
       "    <!-- 26738 -->\n",
       "    <g transform=\"translate(55.882734 62.142109) scale(0.15 -0.15)\">\n",
       "     <defs>\n",
       "      <path id=\"ArialMT-36\" d=\"M 3184 3459 \n",
       "L 2625 3416 \n",
       "Q 2550 3747 2413 3897 \n",
       "Q 2184 4138 1850 4138 \n",
       "Q 1581 4138 1378 3988 \n",
       "Q 1113 3794 959 3422 \n",
       "Q 806 3050 800 2363 \n",
       "Q 1003 2672 1297 2822 \n",
       "Q 1591 2972 1913 2972 \n",
       "Q 2475 2972 2870 2558 \n",
       "Q 3266 2144 3266 1488 \n",
       "Q 3266 1056 3080 686 \n",
       "Q 2894 316 2569 119 \n",
       "Q 2244 -78 1831 -78 \n",
       "Q 1128 -78 684 439 \n",
       "Q 241 956 241 2144 \n",
       "Q 241 3472 731 4075 \n",
       "Q 1159 4600 1884 4600 \n",
       "Q 2425 4600 2770 4297 \n",
       "Q 3116 3994 3184 3459 \n",
       "z\n",
       "M 888 1484 \n",
       "Q 888 1194 1011 928 \n",
       "Q 1134 663 1356 523 \n",
       "Q 1578 384 1822 384 \n",
       "Q 2178 384 2434 671 \n",
       "Q 2691 959 2691 1453 \n",
       "Q 2691 1928 2437 2201 \n",
       "Q 2184 2475 1800 2475 \n",
       "Q 1419 2475 1153 2201 \n",
       "Q 888 1928 888 1484 \n",
       "z\n",
       "\" transform=\"scale(0.015625)\"/>\n",
       "      <path id=\"ArialMT-33\" d=\"M 269 1209 \n",
       "L 831 1284 \n",
       "Q 928 806 1161 595 \n",
       "Q 1394 384 1728 384 \n",
       "Q 2125 384 2398 659 \n",
       "Q 2672 934 2672 1341 \n",
       "Q 2672 1728 2419 1979 \n",
       "Q 2166 2231 1775 2231 \n",
       "Q 1616 2231 1378 2169 \n",
       "L 1441 2663 \n",
       "Q 1497 2656 1531 2656 \n",
       "Q 1891 2656 2178 2843 \n",
       "Q 2466 3031 2466 3422 \n",
       "Q 2466 3731 2256 3934 \n",
       "Q 2047 4138 1716 4138 \n",
       "Q 1388 4138 1169 3931 \n",
       "Q 950 3725 888 3313 \n",
       "L 325 3413 \n",
       "Q 428 3978 793 4289 \n",
       "Q 1159 4600 1703 4600 \n",
       "Q 2078 4600 2393 4439 \n",
       "Q 2709 4278 2876 4000 \n",
       "Q 3044 3722 3044 3409 \n",
       "Q 3044 3113 2884 2869 \n",
       "Q 2725 2625 2413 2481 \n",
       "Q 2819 2388 3044 2092 \n",
       "Q 3269 1797 3269 1353 \n",
       "Q 3269 753 2831 336 \n",
       "Q 2394 -81 1725 -81 \n",
       "Q 1122 -81 723 278 \n",
       "Q 325 638 269 1209 \n",
       "z\n",
       "\" transform=\"scale(0.015625)\"/>\n",
       "     </defs>\n",
       "     <use xlink:href=\"#ArialMT-32\"/>\n",
       "     <use xlink:href=\"#ArialMT-36\" x=\"55.615234\"/>\n",
       "     <use xlink:href=\"#ArialMT-37\" x=\"111.230469\"/>\n",
       "     <use xlink:href=\"#ArialMT-33\" x=\"166.845703\"/>\n",
       "     <use xlink:href=\"#ArialMT-38\" x=\"222.460938\"/>\n",
       "    </g>\n",
       "   </g>\n",
       "   <g id=\"text_10\">\n",
       "    <!-- 4850 -->\n",
       "    <g transform=\"translate(140.323437 62.142109) scale(0.15 -0.15)\">\n",
       "     <use xlink:href=\"#ArialMT-34\"/>\n",
       "     <use xlink:href=\"#ArialMT-38\" x=\"55.615234\"/>\n",
       "     <use xlink:href=\"#ArialMT-35\" x=\"111.230469\"/>\n",
       "     <use xlink:href=\"#ArialMT-30\" x=\"166.845703\"/>\n",
       "    </g>\n",
       "   </g>\n",
       "   <g id=\"text_11\">\n",
       "    <!-- LGBMClassifier Confusion Matrix -->\n",
       "    <g style=\"fill: #262626\" transform=\"translate(28.515625 15.789375) scale(0.12 -0.12)\">\n",
       "     <defs>\n",
       "      <path id=\"ArialMT-4c\" d=\"M 469 0 \n",
       "L 469 4581 \n",
       "L 1075 4581 \n",
       "L 1075 541 \n",
       "L 3331 541 \n",
       "L 3331 0 \n",
       "L 469 0 \n",
       "z\n",
       "\" transform=\"scale(0.015625)\"/>\n",
       "      <path id=\"ArialMT-47\" d=\"M 2638 1797 \n",
       "L 2638 2334 \n",
       "L 4578 2338 \n",
       "L 4578 638 \n",
       "Q 4131 281 3656 101 \n",
       "Q 3181 -78 2681 -78 \n",
       "Q 2006 -78 1454 211 \n",
       "Q 903 500 622 1047 \n",
       "Q 341 1594 341 2269 \n",
       "Q 341 2938 620 3517 \n",
       "Q 900 4097 1425 4378 \n",
       "Q 1950 4659 2634 4659 \n",
       "Q 3131 4659 3532 4498 \n",
       "Q 3934 4338 4162 4050 \n",
       "Q 4391 3763 4509 3300 \n",
       "L 3963 3150 \n",
       "Q 3859 3500 3706 3700 \n",
       "Q 3553 3900 3268 4020 \n",
       "Q 2984 4141 2638 4141 \n",
       "Q 2222 4141 1919 4014 \n",
       "Q 1616 3888 1430 3681 \n",
       "Q 1244 3475 1141 3228 \n",
       "Q 966 2803 966 2306 \n",
       "Q 966 1694 1177 1281 \n",
       "Q 1388 869 1791 669 \n",
       "Q 2194 469 2647 469 \n",
       "Q 3041 469 3416 620 \n",
       "Q 3791 772 3984 944 \n",
       "L 3984 1797 \n",
       "L 2638 1797 \n",
       "z\n",
       "\" transform=\"scale(0.015625)\"/>\n",
       "      <path id=\"ArialMT-42\" d=\"M 469 0 \n",
       "L 469 4581 \n",
       "L 2188 4581 \n",
       "Q 2713 4581 3030 4442 \n",
       "Q 3347 4303 3526 4014 \n",
       "Q 3706 3725 3706 3409 \n",
       "Q 3706 3116 3547 2856 \n",
       "Q 3388 2597 3066 2438 \n",
       "Q 3481 2316 3704 2022 \n",
       "Q 3928 1728 3928 1328 \n",
       "Q 3928 1006 3792 729 \n",
       "Q 3656 453 3456 303 \n",
       "Q 3256 153 2954 76 \n",
       "Q 2653 0 2216 0 \n",
       "L 469 0 \n",
       "z\n",
       "M 1075 2656 \n",
       "L 2066 2656 \n",
       "Q 2469 2656 2644 2709 \n",
       "Q 2875 2778 2992 2937 \n",
       "Q 3109 3097 3109 3338 \n",
       "Q 3109 3566 3000 3739 \n",
       "Q 2891 3913 2687 3977 \n",
       "Q 2484 4041 1991 4041 \n",
       "L 1075 4041 \n",
       "L 1075 2656 \n",
       "z\n",
       "M 1075 541 \n",
       "L 2216 541 \n",
       "Q 2509 541 2628 563 \n",
       "Q 2838 600 2978 687 \n",
       "Q 3119 775 3209 942 \n",
       "Q 3300 1109 3300 1328 \n",
       "Q 3300 1584 3169 1773 \n",
       "Q 3038 1963 2805 2039 \n",
       "Q 2572 2116 2134 2116 \n",
       "L 1075 2116 \n",
       "L 1075 541 \n",
       "z\n",
       "\" transform=\"scale(0.015625)\"/>\n",
       "      <path id=\"ArialMT-4d\" d=\"M 475 0 \n",
       "L 475 4581 \n",
       "L 1388 4581 \n",
       "L 2472 1338 \n",
       "Q 2622 884 2691 659 \n",
       "Q 2769 909 2934 1394 \n",
       "L 4031 4581 \n",
       "L 4847 4581 \n",
       "L 4847 0 \n",
       "L 4263 0 \n",
       "L 4263 3834 \n",
       "L 2931 0 \n",
       "L 2384 0 \n",
       "L 1059 3900 \n",
       "L 1059 0 \n",
       "L 475 0 \n",
       "z\n",
       "\" transform=\"scale(0.015625)\"/>\n",
       "      <path id=\"ArialMT-66\" d=\"M 556 0 \n",
       "L 556 2881 \n",
       "L 59 2881 \n",
       "L 59 3319 \n",
       "L 556 3319 \n",
       "L 556 3672 \n",
       "Q 556 4006 616 4169 \n",
       "Q 697 4388 901 4523 \n",
       "Q 1106 4659 1475 4659 \n",
       "Q 1713 4659 2000 4603 \n",
       "L 1916 4113 \n",
       "Q 1741 4144 1584 4144 \n",
       "Q 1328 4144 1222 4034 \n",
       "Q 1116 3925 1116 3625 \n",
       "L 1116 3319 \n",
       "L 1763 3319 \n",
       "L 1763 2881 \n",
       "L 1116 2881 \n",
       "L 1116 0 \n",
       "L 556 0 \n",
       "z\n",
       "\" transform=\"scale(0.015625)\"/>\n",
       "      <path id=\"ArialMT-6f\" d=\"M 213 1659 \n",
       "Q 213 2581 725 3025 \n",
       "Q 1153 3394 1769 3394 \n",
       "Q 2453 3394 2887 2945 \n",
       "Q 3322 2497 3322 1706 \n",
       "Q 3322 1066 3130 698 \n",
       "Q 2938 331 2570 128 \n",
       "Q 2203 -75 1769 -75 \n",
       "Q 1072 -75 642 372 \n",
       "Q 213 819 213 1659 \n",
       "z\n",
       "M 791 1659 \n",
       "Q 791 1022 1069 705 \n",
       "Q 1347 388 1769 388 \n",
       "Q 2188 388 2466 706 \n",
       "Q 2744 1025 2744 1678 \n",
       "Q 2744 2294 2464 2611 \n",
       "Q 2184 2928 1769 2928 \n",
       "Q 1347 2928 1069 2612 \n",
       "Q 791 2297 791 1659 \n",
       "z\n",
       "\" transform=\"scale(0.015625)\"/>\n",
       "      <path id=\"ArialMT-6e\" d=\"M 422 0 \n",
       "L 422 3319 \n",
       "L 928 3319 \n",
       "L 928 2847 \n",
       "Q 1294 3394 1984 3394 \n",
       "Q 2284 3394 2536 3286 \n",
       "Q 2788 3178 2913 3003 \n",
       "Q 3038 2828 3088 2588 \n",
       "Q 3119 2431 3119 2041 \n",
       "L 3119 0 \n",
       "L 2556 0 \n",
       "L 2556 2019 \n",
       "Q 2556 2363 2490 2533 \n",
       "Q 2425 2703 2258 2804 \n",
       "Q 2091 2906 1866 2906 \n",
       "Q 1506 2906 1245 2678 \n",
       "Q 984 2450 984 1813 \n",
       "L 984 0 \n",
       "L 422 0 \n",
       "z\n",
       "\" transform=\"scale(0.015625)\"/>\n",
       "      <path id=\"ArialMT-78\" d=\"M 47 0 \n",
       "L 1259 1725 \n",
       "L 138 3319 \n",
       "L 841 3319 \n",
       "L 1350 2541 \n",
       "Q 1494 2319 1581 2169 \n",
       "Q 1719 2375 1834 2534 \n",
       "L 2394 3319 \n",
       "L 3066 3319 \n",
       "L 1919 1756 \n",
       "L 3153 0 \n",
       "L 2463 0 \n",
       "L 1781 1031 \n",
       "L 1600 1309 \n",
       "L 728 0 \n",
       "L 47 0 \n",
       "z\n",
       "\" transform=\"scale(0.015625)\"/>\n",
       "     </defs>\n",
       "     <use xlink:href=\"#ArialMT-4c\"/>\n",
       "     <use xlink:href=\"#ArialMT-47\" x=\"55.615234\"/>\n",
       "     <use xlink:href=\"#ArialMT-42\" x=\"133.398438\"/>\n",
       "     <use xlink:href=\"#ArialMT-4d\" x=\"200.097656\"/>\n",
       "     <use xlink:href=\"#ArialMT-43\" x=\"283.398438\"/>\n",
       "     <use xlink:href=\"#ArialMT-6c\" x=\"355.615234\"/>\n",
       "     <use xlink:href=\"#ArialMT-61\" x=\"377.832031\"/>\n",
       "     <use xlink:href=\"#ArialMT-73\" x=\"433.447266\"/>\n",
       "     <use xlink:href=\"#ArialMT-73\" x=\"483.447266\"/>\n",
       "     <use xlink:href=\"#ArialMT-69\" x=\"533.447266\"/>\n",
       "     <use xlink:href=\"#ArialMT-66\" x=\"555.664062\"/>\n",
       "     <use xlink:href=\"#ArialMT-69\" x=\"583.447266\"/>\n",
       "     <use xlink:href=\"#ArialMT-65\" x=\"605.664062\"/>\n",
       "     <use xlink:href=\"#ArialMT-72\" x=\"661.279297\"/>\n",
       "     <use xlink:href=\"#ArialMT-20\" x=\"694.580078\"/>\n",
       "     <use xlink:href=\"#ArialMT-43\" x=\"722.363281\"/>\n",
       "     <use xlink:href=\"#ArialMT-6f\" x=\"794.580078\"/>\n",
       "     <use xlink:href=\"#ArialMT-6e\" x=\"850.195312\"/>\n",
       "     <use xlink:href=\"#ArialMT-66\" x=\"905.810547\"/>\n",
       "     <use xlink:href=\"#ArialMT-75\" x=\"933.59375\"/>\n",
       "     <use xlink:href=\"#ArialMT-73\" x=\"989.208984\"/>\n",
       "     <use xlink:href=\"#ArialMT-69\" x=\"1039.208984\"/>\n",
       "     <use xlink:href=\"#ArialMT-6f\" x=\"1061.425781\"/>\n",
       "     <use xlink:href=\"#ArialMT-6e\" x=\"1117.041016\"/>\n",
       "     <use xlink:href=\"#ArialMT-20\" x=\"1172.65625\"/>\n",
       "     <use xlink:href=\"#ArialMT-4d\" x=\"1200.439453\"/>\n",
       "     <use xlink:href=\"#ArialMT-61\" x=\"1283.740234\"/>\n",
       "     <use xlink:href=\"#ArialMT-74\" x=\"1339.355469\"/>\n",
       "     <use xlink:href=\"#ArialMT-72\" x=\"1367.138672\"/>\n",
       "     <use xlink:href=\"#ArialMT-69\" x=\"1400.439453\"/>\n",
       "     <use xlink:href=\"#ArialMT-78\" x=\"1422.65625\"/>\n",
       "    </g>\n",
       "   </g>\n",
       "  </g>\n",
       " </g>\n",
       " <defs>\n",
       "  <clipPath id=\"p18f717fc83\">\n",
       "   <rect x=\"36.60125\" y=\"21.789375\" width=\"160.54\" height=\"145.9\"/>\n",
       "  </clipPath>\n",
       " </defs>\n",
       "</svg>\n"
      ],
      "text/plain": [
       "<Figure size 300x300 with 1 Axes>"
      ]
     },
     "metadata": {},
     "output_type": "display_data"
    }
   ],
   "source": [
    "s.plot_model(best, plot=\"confusion_matrix\", plot_kwargs={\"size\": (300, 300)})"
   ]
  },
  {
   "cell_type": "code",
   "execution_count": 92,
   "id": "0c616c8d",
   "metadata": {},
   "outputs": [
    {
     "name": "stdout",
     "output_type": "stream",
     "text": [
      "[LightGBM] [Info] Number of positive: 125169, number of negative: 84235\n",
      "[LightGBM] [Info] Auto-choosing row-wise multi-threading, the overhead of testing was 0.000936 seconds.\n",
      "You can set `force_row_wise=true` to remove the overhead.\n",
      "And if memory is not enough, you can set `force_col_wise=true`.\n",
      "[LightGBM] [Info] Total Bins 2550\n",
      "[LightGBM] [Info] Number of data points in the train set: 209404, number of used features: 10\n",
      "[LightGBM] [Info] [binary:BoostFromScore]: pavg=0.597739 -> initscore=0.396054\n",
      "[LightGBM] [Info] Start training from score 0.396054\n"
     ]
    }
   ],
   "source": [
    "from lightgbm import LGBMClassifier\n",
    "\n",
    "model = LGBMClassifier()\n",
    "model.fit(X_train, y_train)\n",
    "prediction = model.predict(X_test)"
   ]
  },
  {
   "cell_type": "markdown",
   "id": "dc44dc12",
   "metadata": {
    "papermill": {
     "duration": 0.018913,
     "end_time": "2024-10-14T15:25:01.967581",
     "exception": false,
     "start_time": "2024-10-14T15:25:01.948668",
     "status": "completed"
    },
    "tags": []
   },
   "source": [
    "We can now evaluate the cohen kappa\n"
   ]
  },
  {
   "cell_type": "code",
   "execution_count": 93,
   "id": "be32dd15",
   "metadata": {
    "execution": {
     "iopub.execute_input": "2024-10-14T15:25:02.004894Z",
     "iopub.status.busy": "2024-10-14T15:25:02.004428Z",
     "iopub.status.idle": "2024-10-14T15:25:02.058647Z",
     "shell.execute_reply": "2024-10-14T15:25:02.057087Z"
    },
    "papermill": {
     "duration": 0.076223,
     "end_time": "2024-10-14T15:25:02.061499",
     "exception": false,
     "start_time": "2024-10-14T15:25:01.985276",
     "status": "completed"
    },
    "tags": []
   },
   "outputs": [
    {
     "name": "stdout",
     "output_type": "stream",
     "text": [
      "0.7653964699234047\n",
      "0.9064158378086371\n"
     ]
    }
   ],
   "source": [
    "from sklearn.metrics import cohen_kappa_score, f1_score\n",
    "\n",
    "print(cohen_kappa_score(prediction, y_test))\n",
    "print(f1_score(prediction, y_test))"
   ]
  },
  {
   "cell_type": "markdown",
   "id": "4b8499f1",
   "metadata": {},
   "source": [
    "# Hyperparameter tuning with Cross-Validation and Optuna\n"
   ]
  },
  {
   "cell_type": "markdown",
   "id": "40661d7a",
   "metadata": {},
   "source": [
    "Key points for cross validation:\n",
    "\n",
    "- StratifyKFold\n"
   ]
  },
  {
   "cell_type": "markdown",
   "id": "7ee437ad",
   "metadata": {
    "papermill": {
     "duration": 0.017963,
     "end_time": "2024-10-14T15:25:02.133546",
     "exception": false,
     "start_time": "2024-10-14T15:25:02.115583",
     "status": "completed"
    },
    "tags": []
   },
   "source": [
    "## Running the model on the test data and submitting to the leaderboard\n"
   ]
  },
  {
   "cell_type": "code",
   "execution_count": 35,
   "id": "f76343ab",
   "metadata": {
    "execution": {
     "iopub.execute_input": "2024-10-14T15:25:02.171620Z",
     "iopub.status.busy": "2024-10-14T15:25:02.171146Z",
     "iopub.status.idle": "2024-10-14T15:25:04.380341Z",
     "shell.execute_reply": "2024-10-14T15:25:04.378963Z"
    },
    "papermill": {
     "duration": 2.231442,
     "end_time": "2024-10-14T15:25:04.383192",
     "exception": false,
     "start_time": "2024-10-14T15:25:02.151750",
     "status": "completed"
    },
    "tags": []
   },
   "outputs": [],
   "source": [
    "ROOT_TEST_PATH = Path(\n",
    "    \"/kaggle/input/eeg-signal-quality-analysis-by-beacon-biosignals/test/\"\n",
    ")\n",
    "ROOT_TEST_PATH = \"test/\"\n",
    "test_data = {i: np.load(ROOT_TEST_PATH + f\"data_{i}.npy\") for i in [4, 5]}\n",
    "# We process each record independantly\n",
    "\n",
    "\n",
    "def compute_features_on_record(data):\n",
    "    \"\"\"\n",
    "    We compute each of the feature for each window and each channel\n",
    "    Each value of the output dict has shape (Channels,T)\n",
    "    \"\"\"\n",
    "    filtered_data = butter_bandpass_filter(data, 0.1, 18, 250, 4)\n",
    "    reshaped_data = reshape_array_into_windows(filtered_data, 250, 2)\n",
    "    amplitude = np.max(reshaped_data, -1) - np.min(reshaped_data, -1)\n",
    "    log_amplitude = np.log(amplitude + 1)\n",
    "    std = np.std(reshaped_data, axis=-1)\n",
    "    log_std = np.log(std + 1)\n",
    "    skewness = skew(reshaped_data, axis=-1)\n",
    "    kurt = kurtosis(reshaped_data, axis=-1)\n",
    "    log_kurtosis = np.log(kurt + np.abs(np.min(kurt)) + 1)\n",
    "    return {\n",
    "        \"amplitude\": amplitude,\n",
    "        \"log_amplitude\": log_amplitude,\n",
    "        \"std\": std,\n",
    "        \"log_std\": log_std,\n",
    "        \"skewness\": skewness,\n",
    "        \"kurtosis\": kurt,\n",
    "        \"log_kurtosis\": log_kurtosis,\n",
    "    }\n",
    "\n",
    "\n",
    "def compute_predictions_on_record(data, model, features_name_for_model):\n",
    "    predictions = []\n",
    "    features = compute_features_on_record(data)\n",
    "    features = np.array([features[k] for k in features_name_for_model])\n",
    "    features = features.swapaxes(0, 1).swapaxes(1, 2)\n",
    "    for channel in range(features.shape[0]):\n",
    "        predictions.append(model.predict(features[channel]))\n",
    "    return np.array(predictions)\n",
    "\n",
    "\n",
    "def format_array_to_target_format(array, record_number):\n",
    "    assert isinstance(record_number, int)\n",
    "    assert isinstance(array, np.ndarray)\n",
    "    assert len(array.shape) == 2\n",
    "    assert array.shape[0] == 5\n",
    "    assert set(np.unique(array)) == {0, 1}\n",
    "    formatted_target = []\n",
    "    for i in range(array.shape[0]):\n",
    "        channel_encoding = (i + 1) * 100000\n",
    "        record_number_encoding = record_number * 1000000\n",
    "        for j in range(array.shape[1]):\n",
    "            formatted_target.append(\n",
    "                {\n",
    "                    \"identifier\": record_number_encoding + channel_encoding + j,\n",
    "                    \"target\": array[i, j],\n",
    "                }\n",
    "            )\n",
    "    return formatted_target"
   ]
  },
  {
   "cell_type": "markdown",
   "id": "4630eb6c",
   "metadata": {
    "papermill": {
     "duration": 0.017757,
     "end_time": "2024-10-14T15:25:04.419048",
     "exception": false,
     "start_time": "2024-10-14T15:25:04.401291",
     "status": "completed"
    },
    "tags": []
   },
   "source": [
    "We the functions defined above, we can now run the model and submit the predictions\n"
   ]
  },
  {
   "cell_type": "code",
   "execution_count": 36,
   "id": "4d9e669e",
   "metadata": {
    "execution": {
     "iopub.execute_input": "2024-10-14T15:25:04.458183Z",
     "iopub.status.busy": "2024-10-14T15:25:04.457743Z",
     "iopub.status.idle": "2024-10-14T15:25:13.388073Z",
     "shell.execute_reply": "2024-10-14T15:25:13.386802Z"
    },
    "papermill": {
     "duration": 8.953487,
     "end_time": "2024-10-14T15:25:13.391170",
     "exception": false,
     "start_time": "2024-10-14T15:25:04.437683",
     "status": "completed"
    },
    "tags": []
   },
   "outputs": [],
   "source": [
    "results = []\n",
    "features_name_for_model = col_to_keep\n",
    "for record_number, data in test_data.items():\n",
    "    preds = compute_predictions_on_record(data, neigh, col_to_keep)\n",
    "    formatted_preds = format_array_to_target_format(preds, record_number)\n",
    "    results.extend(formatted_preds)\n",
    "df = pd.DataFrame(results)\n",
    "df.to_csv(\"submission.csv\", index=False)"
   ]
  }
 ],
 "metadata": {
  "kaggle": {
   "accelerator": "none",
   "dataSources": [
    {
     "databundleVersionId": 9847428,
     "sourceId": 86720,
     "sourceType": "competition"
    }
   ],
   "dockerImageVersionId": 30786,
   "isGpuEnabled": false,
   "isInternetEnabled": true,
   "language": "python",
   "sourceType": "notebook"
  },
  "kernelspec": {
   "display_name": "automl",
   "language": "python",
   "name": "python3"
  },
  "language_info": {
   "codemirror_mode": {
    "name": "ipython",
    "version": 3
   },
   "file_extension": ".py",
   "mimetype": "text/x-python",
   "name": "python",
   "nbconvert_exporter": "python",
   "pygments_lexer": "ipython3",
   "version": "3.9.20"
  },
  "papermill": {
   "default_parameters": {},
   "duration": 37.042882,
   "end_time": "2024-10-14T15:25:14.134329",
   "environment_variables": {},
   "exception": null,
   "input_path": "__notebook__.ipynb",
   "output_path": "__notebook__.ipynb",
   "parameters": {},
   "start_time": "2024-10-14T15:24:37.091447",
   "version": "2.6.0"
  }
 },
 "nbformat": 4,
 "nbformat_minor": 5
}
